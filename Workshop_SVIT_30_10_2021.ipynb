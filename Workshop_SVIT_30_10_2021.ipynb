{
  "nbformat": 4,
  "nbformat_minor": 0,
  "metadata": {
    "colab": {
      "name": "Workshop - SVIT - 30.10.2021",
      "provenance": [],
      "collapsed_sections": [],
      "include_colab_link": true
    },
    "kernelspec": {
      "name": "python3",
      "display_name": "Python 3"
    },
    "language_info": {
      "name": "python"
    }
  },
  "cells": [
    {
      "cell_type": "markdown",
      "metadata": {
        "id": "view-in-github",
        "colab_type": "text"
      },
      "source": [
        "<a href=\"https://colab.research.google.com/github/Melvinsudha/1.Create-a-text-file-called-HelloWorld.md/blob/main/Workshop_SVIT_30_10_2021.ipynb\" target=\"_parent\"><img src=\"https://colab.research.google.com/assets/colab-badge.svg\" alt=\"Open In Colab\"/></a>"
      ]
    },
    {
      "cell_type": "code",
      "metadata": {
        "id": "oO4arL8vKZzY",
        "colab": {
          "base_uri": "https://localhost:8080/"
        },
        "outputId": "091fccfe-4711-4474-f421-a1f4bb05fa88"
      },
      "source": [
        "print ('HI')\n",
        "print (\"hi\")\n",
        "print ('''hi''')\n",
        "print ('''\"hi\"''')\n",
        "print (10,20,30,40,50)"
      ],
      "execution_count": 1,
      "outputs": [
        {
          "output_type": "stream",
          "name": "stdout",
          "text": [
            "HI\n",
            "hi\n",
            "hi\n",
            "\"hi\"\n",
            "10 20 30 40 50\n"
          ]
        }
      ]
    },
    {
      "cell_type": "code",
      "metadata": {
        "id": "Yd8uc630NTOS",
        "colab": {
          "base_uri": "https://localhost:8080/"
        },
        "outputId": "6bf9e139-e06f-4d85-ba55-20d872b86878"
      },
      "source": [
        "#Sum of two numbers\n",
        "a=10\n",
        "b=25\n",
        "c=a+b\n",
        "print(c)"
      ],
      "execution_count": 2,
      "outputs": [
        {
          "output_type": "stream",
          "name": "stdout",
          "text": [
            "35\n"
          ]
        }
      ]
    },
    {
      "cell_type": "code",
      "metadata": {
        "id": "hSmxTVh3CpV5",
        "colab": {
          "base_uri": "https://localhost:8080/"
        },
        "outputId": "6db72bca-3761-4539-90d4-c2687676681d"
      },
      "source": [
        "#to read the input during run time\n",
        "\n",
        "a=int(input(\"Enter value for a\"))\n",
        "b=int(input(\"Enter value for b\"))\n",
        "c=a+b\n",
        "print(\"The sum of a and b:\", c)\n",
        "\n",
        "print('Sum of %i and %i is' %(a,b), c)\n",
        "\n"
      ],
      "execution_count": 3,
      "outputs": [
        {
          "output_type": "stream",
          "name": "stdout",
          "text": [
            "Enter value for a4\n",
            "Enter value for b5\n",
            "The sum of a and b: 9\n",
            "Sum of 4 and 5 is 9\n"
          ]
        }
      ]
    },
    {
      "cell_type": "code",
      "metadata": {
        "id": "3B74t1EsY-8u",
        "colab": {
          "base_uri": "https://localhost:8080/"
        },
        "outputId": "9a3cdcbd-afb9-40eb-aada-ab82e28e2c43"
      },
      "source": [
        "#Casting: method used to change the variables/ values declared in a certain data type into a different data type\n",
        "\n",
        "x = float(1)\n",
        "y = float(2.8) #int(2.8)\n",
        "z = float(\"3\")\n",
        "w = float(\"4.2\")\n",
        "print(\"x=\",x)\n",
        "print(y)\n",
        "print(z)\n",
        "print(w)\n",
        "\n",
        "\n",
        "\n",
        "x1 = str(\"s1\")\n",
        "y1 = str(2)\n",
        "z1 = str(3.0)\n",
        "print(x1)\n",
        "print(y1)\n",
        "print(z1)"
      ],
      "execution_count": 4,
      "outputs": [
        {
          "output_type": "stream",
          "name": "stdout",
          "text": [
            "x= 1.0\n",
            "2.8\n",
            "3.0\n",
            "4.2\n",
            "s1\n",
            "2\n",
            "3.0\n"
          ]
        }
      ]
    },
    {
      "cell_type": "code",
      "metadata": {
        "id": "A_dJ3YYhyKLf",
        "colab": {
          "base_uri": "https://localhost:8080/"
        },
        "outputId": "486752c5-f4c0-44b2-a59f-5af21ca63d7f"
      },
      "source": [
        "#Simple programs - Temperature Conversion\n",
        "\n",
        "c=int(input(\"enter the celsius value:\"))\n",
        "f=(c*(9/5))+32\n",
        "print(f)\n",
        "\n",
        "\n",
        "# F to C\n",
        "f=int(input(\"enter the fahrenheit value:\"))\n",
        "c=(f-32)+(5/9)\n",
        "print(c)\n"
      ],
      "execution_count": 5,
      "outputs": [
        {
          "output_type": "stream",
          "name": "stdout",
          "text": [
            "enter the celsius value:5\n",
            "41.0\n",
            "enter the fahrenheit value:7\n",
            "-24.444444444444443\n"
          ]
        }
      ]
    },
    {
      "cell_type": "code",
      "metadata": {
        "id": "f1CqXnY0zmrG",
        "colab": {
          "base_uri": "https://localhost:8080/"
        },
        "outputId": "1c3b9e5e-161e-4a63-a3bc-3b77c8737ba1"
      },
      "source": [
        "#area of square, circle, triangle \n",
        "a=int(input(\"Enter a value\"))\n",
        "square=a*a\n",
        "print(\"Area of Square\",square)\n",
        "\n",
        "circle=3.14*a*a\n",
        "print(\"Area of circle\",circle)\n",
        "\n",
        "\n",
        "b=int(input(\"entre the breadth\"))\n",
        "h=int(input(\"entre the height\"))\n",
        "\n",
        "tri = 0.5*b*h\n",
        "print(\"Area of triangle for the given breadth %i and height %i\" %(b,h) ,tri)"
      ],
      "execution_count": 6,
      "outputs": [
        {
          "output_type": "stream",
          "name": "stdout",
          "text": [
            "Enter a value5\n",
            "Area of Square 25\n",
            "Area of circle 78.5\n",
            "entre the breadth6\n",
            "entre the height6\n",
            "Area of triangle for the given breadth 6 and height 6 18.0\n"
          ]
        }
      ]
    },
    {
      "cell_type": "code",
      "metadata": {
        "id": "VYXH_ocrJsl7",
        "colab": {
          "base_uri": "https://localhost:8080/"
        },
        "outputId": "1cd348a8-e313-4feb-8ac6-692915304683"
      },
      "source": [
        "#Swapping two numbers using temp variable\n",
        "\n",
        "a=int(input(\"Enter the first value\"))\n",
        "b=int(input(\"Enter the second value\"))\n",
        "\n",
        "print(\"Before swapping\")\n",
        "print(\"a=%i\" %(a))\n",
        "print(\"b=%i\" %(b))\n",
        "\n",
        "c=a\n",
        "a=b\n",
        "b=c\n",
        "\n",
        "print(\"After swapping\")\n",
        "print(\"a=%i\" %(a))\n",
        "print(\"b=%i\" %(b))\n"
      ],
      "execution_count": 7,
      "outputs": [
        {
          "output_type": "stream",
          "name": "stdout",
          "text": [
            "Enter the first value20\n",
            "Enter the second value34\n",
            "Before swapping\n",
            "a=20\n",
            "b=34\n",
            "After swapping\n",
            "a=34\n",
            "b=20\n"
          ]
        }
      ]
    },
    {
      "cell_type": "code",
      "metadata": {
        "id": "_rJ3j4qjMnDH",
        "colab": {
          "base_uri": "https://localhost:8080/"
        },
        "outputId": "e4a4da7f-9349-4da0-831e-d9f5a56d8332"
      },
      "source": [
        "#Swapping two numbers without temp variable\n",
        "\n",
        "a=int(input(\"Enter the first value\"))\n",
        "b=int(input(\"Enter the second value\"))\n",
        "\n",
        "print(\"Before swapping\")\n",
        "print(\"a=%i\" %(a))\n",
        "print(\"b=%i\" %(b))\n",
        "\n",
        "a=a+b\n",
        "b=a-b\n",
        "a=a-b\n",
        "\n",
        "print(\"After swapping\")\n",
        "print(\"a=%i\" %(a))\n",
        "print(\"b=%i\" %(b))"
      ],
      "execution_count": 8,
      "outputs": [
        {
          "output_type": "stream",
          "name": "stdout",
          "text": [
            "Enter the first value43\n",
            "Enter the second value32\n",
            "Before swapping\n",
            "a=43\n",
            "b=32\n",
            "After swapping\n",
            "a=32\n",
            "b=43\n"
          ]
        }
      ]
    },
    {
      "cell_type": "code",
      "metadata": {
        "id": "wr0ZfhT2HcQz",
        "colab": {
          "base_uri": "https://localhost:8080/"
        },
        "outputId": "bd3def00-2661-45c2-f434-942e1f7bce26"
      },
      "source": [
        "#Arithmetic operators\n",
        "\n",
        "a=int(input(\"Enter the first value\"))\n",
        "b=int(input(\"Enter the second value\"))\n",
        "c=a+b\n",
        "print('The Sum of %i and %i is' %(a,b), c)\n",
        "\n",
        "d=a-b\n",
        "print('The Difference is', d)\n",
        "\n",
        "e=a*b\n",
        "print('The Product is', e)\n",
        "\n",
        "f=a/b\n",
        "print('The Quotient  is', c)"
      ],
      "execution_count": 9,
      "outputs": [
        {
          "output_type": "stream",
          "name": "stdout",
          "text": [
            "Enter the first value2\n",
            "Enter the second value3\n",
            "The Sum of 2 and 3 is 5\n",
            "The Difference is -1\n",
            "The Product is 6\n",
            "The Quotient  is 5\n"
          ]
        }
      ]
    },
    {
      "cell_type": "code",
      "metadata": {
        "id": "3E81PEoXIn5A",
        "colab": {
          "base_uri": "https://localhost:8080/"
        },
        "outputId": "23a66c6d-08a0-4efe-960f-55a2c0216663"
      },
      "source": [
        "#assignment Operators\n",
        "\n",
        "a=int(input(\"Enter a number\"))\n",
        "\n",
        "a += 1   #a=a+1\n",
        "print ('The value of a is',a)\n",
        "\n",
        "b=a\n",
        "print('the value of b is',b)\n",
        "\n",
        "b=b**2\n",
        "print(b)\n",
        "\n"
      ],
      "execution_count": 10,
      "outputs": [
        {
          "output_type": "stream",
          "name": "stdout",
          "text": [
            "Enter a number2\n",
            "The value of a is 3\n",
            "the value of b is 3\n",
            "9\n"
          ]
        }
      ]
    },
    {
      "cell_type": "code",
      "metadata": {
        "id": "jQYlPgg_mzHh",
        "colab": {
          "base_uri": "https://localhost:8080/"
        },
        "outputId": "61fe46a7-c648-443e-9366-18efca616090"
      },
      "source": [
        "#Comparison Operators\n",
        "\n",
        "x = 5\n",
        "y = 3\n",
        "\n",
        "print(x == y)\n",
        "print(x != y)\n",
        "print(\tx > y)\n",
        "print(\tx < y)\n",
        "print (x >= y)\n",
        "print(x <= y)"
      ],
      "execution_count": 11,
      "outputs": [
        {
          "output_type": "stream",
          "name": "stdout",
          "text": [
            "False\n",
            "True\n",
            "True\n",
            "False\n",
            "True\n",
            "False\n"
          ]
        }
      ]
    },
    {
      "cell_type": "code",
      "metadata": {
        "colab": {
          "base_uri": "https://localhost:8080/"
        },
        "id": "m2JUbdRFm6ro",
        "outputId": "af4b94a2-2712-4717-879d-47a78acc6996"
      },
      "source": [
        "#Logical Operators\n",
        "x = 5\n",
        "\n",
        "print(x > 3 and x < 10)\n",
        "print (x < 5 or x < 4)\n",
        "print(not(x < 5 and x < 10))"
      ],
      "execution_count": 12,
      "outputs": [
        {
          "output_type": "stream",
          "name": "stdout",
          "text": [
            "True\n",
            "False\n",
            "True\n"
          ]
        }
      ]
    },
    {
      "cell_type": "code",
      "metadata": {
        "id": "hSiAtGsNnO_V",
        "colab": {
          "base_uri": "https://localhost:8080/"
        },
        "outputId": "b04cf4c6-4a27-4e44-f3f3-76c98c014b72"
      },
      "source": [
        "#Identity Operators\n",
        "a=[10]\n",
        "b=[10]\n",
        "c=a\n",
        "\n",
        "print(a is b)\n",
        "print(a is c)\n",
        "print(a is not b)"
      ],
      "execution_count": 13,
      "outputs": [
        {
          "output_type": "stream",
          "name": "stdout",
          "text": [
            "False\n",
            "True\n",
            "True\n"
          ]
        }
      ]
    },
    {
      "cell_type": "code",
      "metadata": {
        "id": "xAF6J0iUqGRq",
        "colab": {
          "base_uri": "https://localhost:8080/"
        },
        "outputId": "c6c94947-be12-4520-ec14-229c9e51699b"
      },
      "source": [
        "#Membership Operators\n",
        "\n",
        "x = [\"apple\", \"banana\"]\n",
        "y = [10,20]\n",
        "\n",
        "print(\"banana\" in x)\n",
        "print(10 not in y)"
      ],
      "execution_count": 14,
      "outputs": [
        {
          "output_type": "stream",
          "name": "stdout",
          "text": [
            "True\n",
            "False\n"
          ]
        }
      ]
    },
    {
      "cell_type": "code",
      "metadata": {
        "id": "VcATuWN43ke4",
        "colab": {
          "base_uri": "https://localhost:8080/"
        },
        "outputId": "da13b185-4f53-4993-e600-9f618f2dc937"
      },
      "source": [
        "#CONDITIONAL STATEMENTS\n",
        "#TO CHECK ODD OR EVEN\n",
        "\n",
        "a=int(input(\"Enter a number:\"))\n",
        "b=a%2\n",
        "if(b==0):\n",
        "  print(\"The given numeber %i is even\" %(a))\n",
        "else:\n",
        "  print(\"The given numeber %i is odd\" %(a))  "
      ],
      "execution_count": 15,
      "outputs": [
        {
          "output_type": "stream",
          "name": "stdout",
          "text": [
            "Enter a number:3\n",
            "The given numeber 3 is odd\n"
          ]
        }
      ]
    },
    {
      "cell_type": "code",
      "metadata": {
        "id": "-MjQs3XvOvks",
        "colab": {
          "base_uri": "https://localhost:8080/"
        },
        "outputId": "0cd16010-5f5c-45d2-b0a5-020c55aee2ee"
      },
      "source": [
        "#Leap Year\n",
        "\n",
        "y=int(input(\"Enter any year: \"))\n",
        "\n",
        "n=y%4\n",
        "\n",
        "if (n==0):\n",
        "  print(\"The given year=%i is leap year\" %(y))\n",
        "else:\n",
        "  print(\"The given year=%i is not a leap year\" %(y))"
      ],
      "execution_count": 16,
      "outputs": [
        {
          "output_type": "stream",
          "name": "stdout",
          "text": [
            "Enter any year: 3000\n",
            "The given year=3000 is leap year\n"
          ]
        }
      ]
    },
    {
      "cell_type": "code",
      "metadata": {
        "id": "VvTxIYeO5HiQ",
        "colab": {
          "base_uri": "https://localhost:8080/"
        },
        "outputId": "04b190ea-cc27-468f-dd9a-8aa9a9378a12"
      },
      "source": [
        "#positive or negative\n",
        "\n",
        "n=int(input(\"Enter a number:\"))\n",
        "\n",
        "if(n>0):\n",
        "  print(\"The given numeber %i is positive\" %(n))\n",
        "else:\n",
        "  print(\"The given numeber %i is negative\" %(n))  "
      ],
      "execution_count": 17,
      "outputs": [
        {
          "output_type": "stream",
          "name": "stdout",
          "text": [
            "Enter a number:20\n",
            "The given numeber 20 is positive\n"
          ]
        }
      ]
    },
    {
      "cell_type": "code",
      "metadata": {
        "id": "Nu-_6hUV5f5H",
        "colab": {
          "base_uri": "https://localhost:8080/"
        },
        "outputId": "f95f9ef8-237a-47f5-a269-4ca2ee93f6ab"
      },
      "source": [
        "#greatest of three numbers\n",
        "a=int(input(\"Enter value for a:\"))\n",
        "b=int(input(\"Enter value for b:\"))\n",
        "c=int(input(\"Enter value for c:\"))\n",
        "\n",
        "if(a>b and a>c):\n",
        "  print(\"a=%i is greater\" %(a))\n",
        "elif (b>c):\n",
        "  print(\"b=%i is greater\" %(b))  \n",
        "else:\n",
        "  print(\"c=%i is greater\" %(c))   \n"
      ],
      "execution_count": 18,
      "outputs": [
        {
          "output_type": "stream",
          "name": "stdout",
          "text": [
            "Enter value for a:7\n",
            "Enter value for b:4\n",
            "Enter value for c:78\n",
            "c=78 is greater\n"
          ]
        }
      ]
    },
    {
      "cell_type": "markdown",
      "metadata": {
        "id": "CLsepiW1QQLS"
      },
      "source": [
        "**LOOPING**"
      ]
    },
    {
      "cell_type": "code",
      "metadata": {
        "id": "Xoxo2dpRQS3H",
        "colab": {
          "base_uri": "https://localhost:8080/"
        },
        "outputId": "5be076e0-02c5-4d45-ff8e-da01373c689a"
      },
      "source": [
        "#sum of n nmubers\n",
        "\n",
        "n=int(input('enter a number: '))\n",
        "i=0;s=0\n",
        "for i in range(n+1):\n",
        "  s=s+i\n",
        "\n",
        "print('sum is:',s) \n"
      ],
      "execution_count": 19,
      "outputs": [
        {
          "output_type": "stream",
          "name": "stdout",
          "text": [
            "enter a number: 7\n",
            "sum is: 28\n"
          ]
        }
      ]
    },
    {
      "cell_type": "code",
      "metadata": {
        "id": "wWtDJYfJQ08G",
        "colab": {
          "base_uri": "https://localhost:8080/"
        },
        "outputId": "d180bb3b-bffe-41bf-a66d-186311d36abf"
      },
      "source": [
        "#To print odd numbers\n",
        "\n",
        "n=int(input('enter a number: '))\n",
        "for i in range(1,n,2):\n",
        "  print(i)"
      ],
      "execution_count": 21,
      "outputs": [
        {
          "output_type": "stream",
          "name": "stdout",
          "text": [
            "enter a number: 3\n",
            "1\n"
          ]
        }
      ]
    },
    {
      "cell_type": "code",
      "metadata": {
        "id": "sP8szS4VRUvV",
        "colab": {
          "base_uri": "https://localhost:8080/"
        },
        "outputId": "b222b148-e06d-4579-de48-0e96554e4273"
      },
      "source": [
        "#To print Even numbers\n",
        "\n",
        "n=int(input('enter a number: '))\n",
        "for i in range(0,n,2):\n",
        "  print(i)"
      ],
      "execution_count": 22,
      "outputs": [
        {
          "output_type": "stream",
          "name": "stdout",
          "text": [
            "enter a number: 4\n",
            "0\n",
            "2\n"
          ]
        }
      ]
    },
    {
      "cell_type": "code",
      "metadata": {
        "id": "pSxj4JLpRc51",
        "colab": {
          "base_uri": "https://localhost:8080/"
        },
        "outputId": "66b0aa5d-199f-4875-b6c9-91621d7b8809"
      },
      "source": [
        "#to print a string\n",
        "\n",
        "n=str(input(\"Enter a String: \"))\n",
        "for i in n:\n",
        "  print(i)"
      ],
      "execution_count": 23,
      "outputs": [
        {
          "output_type": "stream",
          "name": "stdout",
          "text": [
            "Enter a String: 8\n",
            "8\n"
          ]
        }
      ]
    },
    {
      "cell_type": "code",
      "metadata": {
        "id": "-zGX16pQR1we",
        "colab": {
          "base_uri": "https://localhost:8080/"
        },
        "outputId": "05adb04e-0771-4f66-9b93-ad3e1c07a5d2"
      },
      "source": [
        "#Sum of digits\n",
        "n=int(input('enter a number: '))\n",
        "\n",
        "s=0\n",
        "i=0\n",
        "r=0\n",
        "\n",
        "for i in range(n):\n",
        "  r=n%10\n",
        "  s=s+r\n",
        "  n=n/10\n",
        "\n",
        "print(\"Sum of  digits\", s)  "
      ],
      "execution_count": 24,
      "outputs": [
        {
          "output_type": "stream",
          "name": "stdout",
          "text": [
            "enter a number: 8\n",
            "Sum of  digits 8.8888888\n"
          ]
        }
      ]
    },
    {
      "cell_type": "code",
      "metadata": {
        "id": "CAWDp8SzXJIf",
        "colab": {
          "base_uri": "https://localhost:8080/"
        },
        "outputId": "5932cacc-67d9-4a8d-b985-cbb4bcf6ac5f"
      },
      "source": [
        "# Multiplication table \n",
        "\n",
        "# To take input from the user\n",
        "n= int(input(\"Enter the table value \"))\n",
        "\n",
        "# Iterate 10 times from i = 1 to 10\n",
        "for i in range(1, n):\n",
        "   print(n, 'x', i, '=', n*i)"
      ],
      "execution_count": 25,
      "outputs": [
        {
          "output_type": "stream",
          "name": "stdout",
          "text": [
            "Enter the table value 66\n",
            "66 x 1 = 66\n",
            "66 x 2 = 132\n",
            "66 x 3 = 198\n",
            "66 x 4 = 264\n",
            "66 x 5 = 330\n",
            "66 x 6 = 396\n",
            "66 x 7 = 462\n",
            "66 x 8 = 528\n",
            "66 x 9 = 594\n",
            "66 x 10 = 660\n",
            "66 x 11 = 726\n",
            "66 x 12 = 792\n",
            "66 x 13 = 858\n",
            "66 x 14 = 924\n",
            "66 x 15 = 990\n",
            "66 x 16 = 1056\n",
            "66 x 17 = 1122\n",
            "66 x 18 = 1188\n",
            "66 x 19 = 1254\n",
            "66 x 20 = 1320\n",
            "66 x 21 = 1386\n",
            "66 x 22 = 1452\n",
            "66 x 23 = 1518\n",
            "66 x 24 = 1584\n",
            "66 x 25 = 1650\n",
            "66 x 26 = 1716\n",
            "66 x 27 = 1782\n",
            "66 x 28 = 1848\n",
            "66 x 29 = 1914\n",
            "66 x 30 = 1980\n",
            "66 x 31 = 2046\n",
            "66 x 32 = 2112\n",
            "66 x 33 = 2178\n",
            "66 x 34 = 2244\n",
            "66 x 35 = 2310\n",
            "66 x 36 = 2376\n",
            "66 x 37 = 2442\n",
            "66 x 38 = 2508\n",
            "66 x 39 = 2574\n",
            "66 x 40 = 2640\n",
            "66 x 41 = 2706\n",
            "66 x 42 = 2772\n",
            "66 x 43 = 2838\n",
            "66 x 44 = 2904\n",
            "66 x 45 = 2970\n",
            "66 x 46 = 3036\n",
            "66 x 47 = 3102\n",
            "66 x 48 = 3168\n",
            "66 x 49 = 3234\n",
            "66 x 50 = 3300\n",
            "66 x 51 = 3366\n",
            "66 x 52 = 3432\n",
            "66 x 53 = 3498\n",
            "66 x 54 = 3564\n",
            "66 x 55 = 3630\n",
            "66 x 56 = 3696\n",
            "66 x 57 = 3762\n",
            "66 x 58 = 3828\n",
            "66 x 59 = 3894\n",
            "66 x 60 = 3960\n",
            "66 x 61 = 4026\n",
            "66 x 62 = 4092\n",
            "66 x 63 = 4158\n",
            "66 x 64 = 4224\n",
            "66 x 65 = 4290\n"
          ]
        }
      ]
    },
    {
      "cell_type": "code",
      "metadata": {
        "id": "4J1CYAFhX6TF",
        "colab": {
          "base_uri": "https://localhost:8080/",
          "height": 217
        },
        "outputId": "d8fc598a-9d0c-41ac-a53c-4d290f588f05"
      },
      "source": [
        "#factorial of a number\n",
        "n = int(input(\"Enter a number: \"))\n",
        "f=1\n",
        "\n",
        "# check if the number is negative, positive or zero\n",
        "if n < 0:\n",
        "   print(\"Sorry, factorial does not exist for negative numbers\")\n",
        "elif n == 0:\n",
        "   print(\"The factorial of 0 is 1\")\n",
        "else:\n",
        "   for i in range(1,n + 1):\n",
        "       f = f*i\n",
        "   print(\"The factorial of\",num,\"is\",f)"
      ],
      "execution_count": 26,
      "outputs": [
        {
          "name": "stdout",
          "output_type": "stream",
          "text": [
            "Enter a number: 5\n"
          ]
        },
        {
          "output_type": "error",
          "ename": "NameError",
          "evalue": "ignored",
          "traceback": [
            "\u001b[0;31m---------------------------------------------------------------------------\u001b[0m",
            "\u001b[0;31mNameError\u001b[0m                                 Traceback (most recent call last)",
            "\u001b[0;32m<ipython-input-26-be261af0e471>\u001b[0m in \u001b[0;36m<module>\u001b[0;34m()\u001b[0m\n\u001b[1;32m     11\u001b[0m    \u001b[0;32mfor\u001b[0m \u001b[0mi\u001b[0m \u001b[0;32min\u001b[0m \u001b[0mrange\u001b[0m\u001b[0;34m(\u001b[0m\u001b[0;36m1\u001b[0m\u001b[0;34m,\u001b[0m\u001b[0mn\u001b[0m \u001b[0;34m+\u001b[0m \u001b[0;36m1\u001b[0m\u001b[0;34m)\u001b[0m\u001b[0;34m:\u001b[0m\u001b[0;34m\u001b[0m\u001b[0;34m\u001b[0m\u001b[0m\n\u001b[1;32m     12\u001b[0m        \u001b[0mf\u001b[0m \u001b[0;34m=\u001b[0m \u001b[0mf\u001b[0m\u001b[0;34m*\u001b[0m\u001b[0mi\u001b[0m\u001b[0;34m\u001b[0m\u001b[0;34m\u001b[0m\u001b[0m\n\u001b[0;32m---> 13\u001b[0;31m    \u001b[0mprint\u001b[0m\u001b[0;34m(\u001b[0m\u001b[0;34m\"The factorial of\"\u001b[0m\u001b[0;34m,\u001b[0m\u001b[0mnum\u001b[0m\u001b[0;34m,\u001b[0m\u001b[0;34m\"is\"\u001b[0m\u001b[0;34m,\u001b[0m\u001b[0mf\u001b[0m\u001b[0;34m)\u001b[0m\u001b[0;34m\u001b[0m\u001b[0;34m\u001b[0m\u001b[0m\n\u001b[0m",
            "\u001b[0;31mNameError\u001b[0m: name 'num' is not defined"
          ]
        }
      ]
    },
    {
      "cell_type": "code",
      "metadata": {
        "colab": {
          "base_uri": "https://localhost:8080/"
        },
        "id": "J52ut3LIPTmD",
        "outputId": "fb67dc09-acb2-4a8b-e7b3-e931f8647426"
      },
      "source": [
        "#LOOPING\n",
        "\n",
        "# Program to check if a number is prime or not\n",
        "\n",
        "# To take input from the user\n",
        "num = int(input(\"Enter a number: \"))\n",
        "\n",
        "# define a flag variable\n",
        "flag = False\n",
        "\n",
        "# prime numbers are greater than 1\n",
        "if num > 1:\n",
        "    # check for factors\n",
        "    for i in range(2, num):\n",
        "        if (num % i) == 0:\n",
        "            # if factor is found, set flag to True\n",
        "            flag = True\n",
        "            # break out of loop\n",
        "            break\n",
        "\n",
        "# check if flag is True\n",
        "if flag:\n",
        "    print(num, \"is not a prime number\")\n",
        "else:\n",
        "    print(num, \"is a prime number\")"
      ],
      "execution_count": 27,
      "outputs": [
        {
          "output_type": "stream",
          "name": "stdout",
          "text": [
            "Enter a number: 7\n",
            "7 is a prime number\n"
          ]
        }
      ]
    },
    {
      "cell_type": "markdown",
      "metadata": {
        "id": "pjmxP6HogJhg"
      },
      "source": [
        "**FUNCTIONS**"
      ]
    },
    {
      "cell_type": "code",
      "metadata": {
        "id": "Toobjou4hBVo",
        "colab": {
          "base_uri": "https://localhost:8080/"
        },
        "outputId": "acf19c7e-b9ed-4eb6-cc7c-33f7975aa956"
      },
      "source": [
        "#Function without arguments and without return value\n",
        "\n",
        "a=int(input(\"Enter value for a:\"))\n",
        "b=int(input(\"Enter value for b:\"))\n",
        "\n",
        "def sum():\n",
        "  c=a+b\n",
        "  print(\"sum of %i and %i is:\" %(a,b),c)\n",
        "\n",
        "def diff():\n",
        "  #a=int(input(\"Enter value for a:\"))\n",
        " # b=int(input(\"Enter value for b:\"))\n",
        "  c=a-b\n",
        "  print(\"Difference of %i and %i is:\" %(a,b),c)  \n",
        "\n",
        "\n",
        "def prod():\n",
        " # a=int(input(\"Enter value for a:\"))\n",
        " # b=int(input(\"Enter value for b:\"))\n",
        "  c=a*b\n",
        "  print(\"Product of %i and %i is:\" %(a,b),c) \n",
        "\n",
        "def div():\n",
        " # a=int(input(\"Enter value for a:\"))\n",
        " # b=int(input(\"Enter value for b:\"))\n",
        "  c=a/b\n",
        "  print(\"Quotient of %i and %i is:\" %(a,b),c)   \n",
        "\n",
        "def mod():\n",
        " # a=int(input(\"Enter value for a:\"))\n",
        "  #b=int(input(\"Enter value for b:\"))\n",
        "  c=a%b\n",
        "  print(\"Remainder of %i and %i is:\" %(a,b),c) \n",
        "\n",
        "sum()  \n",
        "diff()\n",
        "prod()\n",
        "div()\n",
        "mod()"
      ],
      "execution_count": 29,
      "outputs": [
        {
          "output_type": "stream",
          "name": "stdout",
          "text": [
            "Enter value for a:45\n",
            "Enter value for b:56\n",
            "sum of 45 and 56 is: 101\n",
            "Difference of 45 and 56 is: -11\n",
            "Product of 45 and 56 is: 2520\n",
            "Quotient of 45 and 56 is: 0.8035714285714286\n",
            "Remainder of 45 and 56 is: 45\n"
          ]
        }
      ]
    },
    {
      "cell_type": "code",
      "metadata": {
        "id": "wn5muvCdkw1k",
        "colab": {
          "base_uri": "https://localhost:8080/"
        },
        "outputId": "750abb1c-c160-4566-a9da-d88942241315"
      },
      "source": [
        "#Function with arguments and with return value\n",
        "\n",
        "a=int(input(\"Enter value for a:\"))\n",
        "b=int(input(\"Enter value for b:\"))\n",
        "\n",
        "def sum(a,b):\n",
        "  c=a+b\n",
        "  print(\"sum of %i and %i is:\" %(a,b),c)\n",
        "\n",
        "def diff(a,b):\n",
        "  c=a-b\n",
        "  print(\"Difference of %i and %i is:\" %(a,b),c)  \n",
        "\n",
        "\n",
        "def prod(a,b):\n",
        "  c=a*b\n",
        "  print(\"Product of %i and %i is:\" %(a,b),c) \n",
        "\n",
        "def div(a,b):\n",
        "  c=a/b\n",
        "  print(\"Quotient of %i and %i is:\" %(a,b),c)   \n",
        "\n",
        "def mod(a,b):\n",
        "  c=a%b\n",
        "  print(\"Remainder of %i and %i is:\" %(a,b),c) \n",
        "\n",
        "sum(a,b)  \n",
        "diff(a,b)\n",
        "prod(a,b)\n",
        "div(a,b)\n",
        "mod(a,b)"
      ],
      "execution_count": 30,
      "outputs": [
        {
          "output_type": "stream",
          "name": "stdout",
          "text": [
            "Enter value for a:76\n",
            "Enter value for b:34\n",
            "sum of 76 and 34 is: 110\n",
            "Difference of 76 and 34 is: 42\n",
            "Product of 76 and 34 is: 2584\n",
            "Quotient of 76 and 34 is: 2.235294117647059\n",
            "Remainder of 76 and 34 is: 8\n"
          ]
        }
      ]
    },
    {
      "cell_type": "markdown",
      "metadata": {
        "id": "AYspDBU_2yOt"
      },
      "source": [
        "**SWITCH**"
      ]
    },
    {
      "cell_type": "code",
      "metadata": {
        "id": "8jIhCDAaluOz",
        "colab": {
          "base_uri": "https://localhost:8080/"
        },
        "outputId": "540c1326-ed75-42fb-90f1-d8061e92ff4f"
      },
      "source": [
        "def week(i):\n",
        "  switch ={\n",
        "    0:'Sunday',\n",
        "    1:'Monday',\n",
        "    2:'Tuesday',\n",
        "    3:'Wednesday',\n",
        "    4:'Thursday',\n",
        "    5:'Friday',\n",
        "    6:'Saturday'\n",
        "  } \n",
        "  print(switch.get(i,\"Invalid day of week\"))\n",
        "\n",
        "n=int(input(\"enter the choice: \"))\n",
        "week(n)"
      ],
      "execution_count": 31,
      "outputs": [
        {
          "output_type": "stream",
          "name": "stdout",
          "text": [
            "enter the choice: 5\n",
            "Friday\n"
          ]
        }
      ]
    },
    {
      "cell_type": "code",
      "metadata": {
        "id": "x5B-DwRnoTIK",
        "colab": {
          "base_uri": "https://localhost:8080/"
        },
        "outputId": "e7c2da2c-9b4b-4da2-bcf0-4eba746ffbdd"
      },
      "source": [
        "def calculation():\n",
        "\n",
        " \n",
        "  if(n==1):\n",
        "    c=a+b\n",
        "    print(\"sum of %i and %i is:\" %(a,b),c)\n",
        "\n",
        "  elif(n==2):\n",
        "    c=a-b\n",
        "    print(\"diff of %i and %i is:\" %(a,b),c)\n",
        "  \n",
        "  elif(n==3):\n",
        "    c=a*b\n",
        "    print(\"Product of %i and %i is:\" %(a,b),c)\n",
        "\n",
        "  elif(n==4):\n",
        "    c=a/b\n",
        "    print(\"Quotient of %i and %i is:\" %(a,b),c)\n",
        "\n",
        "  elif(n==5):\n",
        "    c=a%b\n",
        "    print(\"Remainder of %i and %i is:\" %(a,b),c)\n",
        "\n",
        "  else:\n",
        "    print(\"invalid choice\")\n",
        "\n",
        "a=int(input(\"Enter value for a:\"))\n",
        "b=int(input(\"Enter value for b:\"))\n",
        "\n",
        "n=int(input(\"Enter the choice\"))\n",
        "\n",
        "calculation()\n"
      ],
      "execution_count": 32,
      "outputs": [
        {
          "output_type": "stream",
          "name": "stdout",
          "text": [
            "Enter value for a:3\n",
            "Enter value for b:5\n",
            "Enter the choice6\n",
            "invalid choice\n"
          ]
        }
      ]
    },
    {
      "cell_type": "markdown",
      "metadata": {
        "id": "5lJD3F4q4S5T"
      },
      "source": [
        "**LIST-TUPLE-DICTIONARY-SET-DATAFRAME**"
      ]
    },
    {
      "cell_type": "code",
      "metadata": {
        "id": "WtFsHGS64asP",
        "colab": {
          "base_uri": "https://localhost:8080/"
        },
        "outputId": "8573a51d-fe95-4ce8-a1f0-5066ac78b6af"
      },
      "source": [
        "list=[10,20,30,40,50,60,70,80,90,100,'a','b']\n",
        "print(list)\n",
        "print(len(list))\n"
      ],
      "execution_count": 33,
      "outputs": [
        {
          "output_type": "stream",
          "name": "stdout",
          "text": [
            "[10, 20, 30, 40, 50, 60, 70, 80, 90, 100, 'a', 'b']\n",
            "12\n"
          ]
        }
      ]
    },
    {
      "cell_type": "code",
      "metadata": {
        "id": "00e86KWO8FAv",
        "colab": {
          "base_uri": "https://localhost:8080/"
        },
        "outputId": "c8c7924f-325b-4b5f-baa7-67f087d989fa"
      },
      "source": [
        "print(len(list))"
      ],
      "execution_count": 34,
      "outputs": [
        {
          "output_type": "stream",
          "name": "stdout",
          "text": [
            "12\n"
          ]
        }
      ]
    },
    {
      "cell_type": "code",
      "metadata": {
        "id": "Rt-Vy9XZ5Tri",
        "colab": {
          "base_uri": "https://localhost:8080/"
        },
        "outputId": "2f3dd4e2-baa2-4878-bda8-ca6ed474682f"
      },
      "source": [
        "print(list[0])"
      ],
      "execution_count": 35,
      "outputs": [
        {
          "output_type": "stream",
          "name": "stdout",
          "text": [
            "10\n"
          ]
        }
      ]
    },
    {
      "cell_type": "code",
      "metadata": {
        "id": "YpKxfo-E6k1T",
        "colab": {
          "base_uri": "https://localhost:8080/"
        },
        "outputId": "21e81aca-895e-457f-be28-c5ec41955e9c"
      },
      "source": [
        "print(list[-1])"
      ],
      "execution_count": 36,
      "outputs": [
        {
          "output_type": "stream",
          "name": "stdout",
          "text": [
            "b\n"
          ]
        }
      ]
    },
    {
      "cell_type": "code",
      "metadata": {
        "id": "Egvgdy3v62Nv",
        "colab": {
          "base_uri": "https://localhost:8080/"
        },
        "outputId": "a41dabca-6a8e-4835-df8f-3e6e6c4f2a97"
      },
      "source": [
        "print(list.pop(-1))\n"
      ],
      "execution_count": 37,
      "outputs": [
        {
          "output_type": "stream",
          "name": "stdout",
          "text": [
            "b\n"
          ]
        }
      ]
    },
    {
      "cell_type": "code",
      "metadata": {
        "id": "fdIVCn3c7C0H",
        "colab": {
          "base_uri": "https://localhost:8080/"
        },
        "outputId": "b63901af-1205-4ac8-e001-d91f8e7dff0d"
      },
      "source": [
        "print (list)"
      ],
      "execution_count": 38,
      "outputs": [
        {
          "output_type": "stream",
          "name": "stdout",
          "text": [
            "[10, 20, 30, 40, 50, 60, 70, 80, 90, 100, 'a']\n"
          ]
        }
      ]
    },
    {
      "cell_type": "code",
      "metadata": {
        "id": "7uTYT2pr8X4g",
        "colab": {
          "base_uri": "https://localhost:8080/"
        },
        "outputId": "6b506d55-ca52-4f30-e94a-721db1f61da8"
      },
      "source": [
        "print(type(list))"
      ],
      "execution_count": 39,
      "outputs": [
        {
          "output_type": "stream",
          "name": "stdout",
          "text": [
            "<class 'list'>\n"
          ]
        }
      ]
    },
    {
      "cell_type": "code",
      "metadata": {
        "id": "5A5o37U97JEa",
        "colab": {
          "base_uri": "https://localhost:8080/"
        },
        "outputId": "9024aa5b-9bfc-43d2-8a6f-050e032fdd8e"
      },
      "source": [
        "list.append(5)\n",
        "print(list)"
      ],
      "execution_count": 40,
      "outputs": [
        {
          "output_type": "stream",
          "name": "stdout",
          "text": [
            "[10, 20, 30, 40, 50, 60, 70, 80, 90, 100, 'a', 5]\n"
          ]
        }
      ]
    },
    {
      "cell_type": "code",
      "metadata": {
        "id": "6Cyot-1588q5",
        "colab": {
          "base_uri": "https://localhost:8080/"
        },
        "outputId": "9a5f4d56-2034-4f6b-e71c-32d93550aa18"
      },
      "source": [
        "list2 = [29,43,13,56,23,21, 56, 76,92,52]\n",
        "print(list2)"
      ],
      "execution_count": 41,
      "outputs": [
        {
          "output_type": "stream",
          "name": "stdout",
          "text": [
            "[29, 43, 13, 56, 23, 21, 56, 76, 92, 52]\n"
          ]
        }
      ]
    },
    {
      "cell_type": "code",
      "metadata": {
        "id": "AUpMGdd89G7U",
        "colab": {
          "base_uri": "https://localhost:8080/"
        },
        "outputId": "7b060603-93ee-4275-d119-a7cd89db0447"
      },
      "source": [
        "#sort\n",
        "\n",
        "list2.sort()\n",
        "print(list2)"
      ],
      "execution_count": 42,
      "outputs": [
        {
          "output_type": "stream",
          "name": "stdout",
          "text": [
            "[13, 21, 23, 29, 43, 52, 56, 56, 76, 92]\n"
          ]
        }
      ]
    },
    {
      "cell_type": "code",
      "metadata": {
        "id": "CvYMB4EO-GL9",
        "colab": {
          "base_uri": "https://localhost:8080/"
        },
        "outputId": "22314e43-7ecc-4906-fc59-9ee129e765e8"
      },
      "source": [
        "print(list+list2)"
      ],
      "execution_count": 43,
      "outputs": [
        {
          "output_type": "stream",
          "name": "stdout",
          "text": [
            "[10, 20, 30, 40, 50, 60, 70, 80, 90, 100, 'a', 5, 13, 21, 23, 29, 43, 52, 56, 56, 76, 92]\n"
          ]
        }
      ]
    },
    {
      "cell_type": "code",
      "metadata": {
        "id": "v8i10GjK9kTO",
        "colab": {
          "base_uri": "https://localhost:8080/"
        },
        "outputId": "e1a2c840-337b-45f0-c1f8-a5cb8276429f"
      },
      "source": [
        "#copy\n",
        "\n",
        "print(list)\n",
        "print(list2)\n",
        "\n",
        "list2=list.copy()\n",
        "\n",
        "print(list2)"
      ],
      "execution_count": 44,
      "outputs": [
        {
          "output_type": "stream",
          "name": "stdout",
          "text": [
            "[10, 20, 30, 40, 50, 60, 70, 80, 90, 100, 'a', 5]\n",
            "[13, 21, 23, 29, 43, 52, 56, 56, 76, 92]\n",
            "[10, 20, 30, 40, 50, 60, 70, 80, 90, 100, 'a', 5]\n"
          ]
        }
      ]
    },
    {
      "cell_type": "markdown",
      "metadata": {
        "id": "SiQUllGGA-_G"
      },
      "source": [
        "**TUPLE**"
      ]
    },
    {
      "cell_type": "code",
      "metadata": {
        "id": "nF_d7eip9-Qg",
        "colab": {
          "base_uri": "https://localhost:8080/"
        },
        "outputId": "73819487-d721-4ab7-bf2a-fa7096b2302d"
      },
      "source": [
        "tuple=(10,20,30,40,50,60,70,80,90,100)\n",
        "print(tuple)"
      ],
      "execution_count": 45,
      "outputs": [
        {
          "output_type": "stream",
          "name": "stdout",
          "text": [
            "(10, 20, 30, 40, 50, 60, 70, 80, 90, 100)\n"
          ]
        }
      ]
    },
    {
      "cell_type": "code",
      "metadata": {
        "id": "G5IWQhwPBIBd",
        "colab": {
          "base_uri": "https://localhost:8080/"
        },
        "outputId": "d677da23-9be8-41b9-eba3-0cadb4fc76da"
      },
      "source": [
        "print(len(tuple))"
      ],
      "execution_count": 46,
      "outputs": [
        {
          "output_type": "stream",
          "name": "stdout",
          "text": [
            "10\n"
          ]
        }
      ]
    },
    {
      "cell_type": "code",
      "metadata": {
        "id": "XIk_4w5nBfw-",
        "colab": {
          "base_uri": "https://localhost:8080/"
        },
        "outputId": "6880d1bd-3da6-4a61-df1d-fb107b3d1d62"
      },
      "source": [
        "#Tuples operations\n",
        "t1 = ('p', 'y', 't', 'h','o','n')\n",
        "t2 = ('python', [1,2,3] , (4,5,6))\n",
        "\n",
        "print (\"Fisrt Tuple\" , t1)\n",
        "print (\"Second Tuple\",t2)\n",
        "\n",
        "print (\"Negative indexing\",t1[-1])\n",
        "print (\"Negative indexing\",t2[-1])\n",
        "\n",
        "print (\"First Index\",t1[0])\n",
        "print (\"First Index\",t2[0])\n",
        "print (\"Join\",t1+t2)\n",
        "print (\"Two time of first tuple\",t1*2)\n",
        "print (\"Two time of second tuple\",t2*2)\n",
        "print (\"Length of t1\", len(t1))\n",
        "print (\"Length of t2\",len(t2))\n",
        "print (\"Membership operator:\", 'y' in t1)\n",
        "print (\"Membership operator:\",'Y' in t1)\n",
        "print (\"Membership operator:\",'python' in t2)\n",
        "print (\"Membership operator:\",[1,2,3] in t2)"
      ],
      "execution_count": 47,
      "outputs": [
        {
          "output_type": "stream",
          "name": "stdout",
          "text": [
            "Fisrt Tuple ('p', 'y', 't', 'h', 'o', 'n')\n",
            "Second Tuple ('python', [1, 2, 3], (4, 5, 6))\n",
            "Negative indexing n\n",
            "Negative indexing (4, 5, 6)\n",
            "First Index p\n",
            "First Index python\n",
            "Join ('p', 'y', 't', 'h', 'o', 'n', 'python', [1, 2, 3], (4, 5, 6))\n",
            "Two time of first tuple ('p', 'y', 't', 'h', 'o', 'n', 'p', 'y', 't', 'h', 'o', 'n')\n",
            "Two time of second tuple ('python', [1, 2, 3], (4, 5, 6), 'python', [1, 2, 3], (4, 5, 6))\n",
            "Length of t1 6\n",
            "Length of t2 3\n",
            "Membership operator: True\n",
            "Membership operator: False\n",
            "Membership operator: True\n",
            "Membership operator: True\n"
          ]
        }
      ]
    },
    {
      "cell_type": "markdown",
      "metadata": {
        "id": "A89peSDAE1oC"
      },
      "source": [
        "**DICTIONARY**"
      ]
    },
    {
      "cell_type": "code",
      "metadata": {
        "colab": {
          "base_uri": "https://localhost:8080/"
        },
        "id": "LPamOCbBFArw",
        "outputId": "794317ca-ae11-4c16-f993-8c55afd65d4d"
      },
      "source": [
        "dict = {\"1\" : \"one\",  \"2\": \"apple\",  \"3\": 2020 }\n",
        "print(dict)\n"
      ],
      "execution_count": 48,
      "outputs": [
        {
          "output_type": "stream",
          "name": "stdout",
          "text": [
            "{'1': 'one', '2': 'apple', '3': 2020}\n"
          ]
        }
      ]
    },
    {
      "cell_type": "code",
      "metadata": {
        "id": "GtkxHy1NFK9f"
      },
      "source": [
        "# empty dictionary\n",
        "dict1 = {}\n"
      ],
      "execution_count": 49,
      "outputs": []
    },
    {
      "cell_type": "code",
      "metadata": {
        "colab": {
          "base_uri": "https://localhost:8080/"
        },
        "id": "qjiRQhvZFTNO",
        "outputId": "8c320908-bf2f-4036-e154-c540e3a9aaff"
      },
      "source": [
        "# dictionary with integer keys\n",
        "dict1 = {1: 'apple', 2: 'ball'}\n",
        "print(\"First Dictionary\",dict1)\n"
      ],
      "execution_count": 50,
      "outputs": [
        {
          "output_type": "stream",
          "name": "stdout",
          "text": [
            "First Dictionary {1: 'apple', 2: 'ball'}\n"
          ]
        }
      ]
    },
    {
      "cell_type": "code",
      "metadata": {
        "id": "OIpmKhj5FdHq",
        "colab": {
          "base_uri": "https://localhost:8080/"
        },
        "outputId": "511bcc9e-f0a6-44d0-b66d-4197ba2540ec"
      },
      "source": [
        "# Dictionary with for loop\n",
        "\n",
        "stud = { \"Name\" : \"XXX\" , \"Reg.no\" :36 , \"M1\" : 64 , \"M2\" : 80 , \"M3\" : 76}\n",
        "stud[\"email\"] = \" yourmail@crecsent.education\"\n",
        "stud[\"address\"] = \"Chennai\"\n",
        "for key in stud:\n",
        "    print ( key , \":\" , stud[key])\n"
      ],
      "execution_count": 51,
      "outputs": [
        {
          "output_type": "stream",
          "name": "stdout",
          "text": [
            "Name : XXX\n",
            "Reg.no : 36\n",
            "M1 : 64\n",
            "M2 : 80\n",
            "M3 : 76\n",
            "email :  yourmail@crecsent.education\n",
            "address : Chennai\n"
          ]
        }
      ]
    },
    {
      "cell_type": "code",
      "metadata": {
        "id": "LPKGbJfwGMWC",
        "colab": {
          "base_uri": "https://localhost:8080/"
        },
        "outputId": "928bcfd9-8998-42b2-dfd8-16512a27e6e3"
      },
      "source": [
        "print(stud)"
      ],
      "execution_count": 52,
      "outputs": [
        {
          "output_type": "stream",
          "name": "stdout",
          "text": [
            "{'Name': 'XXX', 'Reg.no': 36, 'M1': 64, 'M2': 80, 'M3': 76, 'email': ' yourmail@crecsent.education', 'address': 'Chennai'}\n"
          ]
        }
      ]
    },
    {
      "cell_type": "code",
      "metadata": {
        "id": "1easx9pcGEXP",
        "colab": {
          "base_uri": "https://localhost:8080/"
        },
        "outputId": "17ed47a0-4e73-463d-aa9d-64761b5aba00"
      },
      "source": [
        "#Accessing the elements in the dictionary using keys\n",
        "\n",
        "stud={'Name': 'XXX', \n",
        "      'Reg.no': 36, \n",
        "      'M1': 64, \n",
        "      'M2': 80, \n",
        "      'M3': 76, \n",
        "      'email': 'yourmail@crecsent.education', \n",
        "      'address': 'Chennai'}\n",
        "\n",
        "print (\"1.\", stud['Name'])    \t\t #accessing name\n",
        "print (\"2.\", stud['Reg.no'])       \t\t#accessing age\n",
        "print (\"3.\", stud.get('M1'))    \t\t#accessing age\n",
        "print (\"4.\", stud.get('M2'))    \t#accessing address\n",
        "\n",
        "print (\"5.\", stud.get('contact'))\n",
        "print (\"6.\", stud)\n"
      ],
      "execution_count": 53,
      "outputs": [
        {
          "output_type": "stream",
          "name": "stdout",
          "text": [
            "1. XXX\n",
            "2. 36\n",
            "3. 64\n",
            "4. 80\n",
            "5. None\n",
            "6. {'Name': 'XXX', 'Reg.no': 36, 'M1': 64, 'M2': 80, 'M3': 76, 'email': 'yourmail@crecsent.education', 'address': 'Chennai'}\n"
          ]
        }
      ]
    },
    {
      "cell_type": "markdown",
      "metadata": {
        "id": "NjWH-zcHLm-c"
      },
      "source": [
        "**UPLOAD AND OPERATIONS OF DATASETS**\n"
      ]
    },
    {
      "cell_type": "code",
      "metadata": {
        "colab": {
          "base_uri": "https://localhost:8080/",
          "height": 424
        },
        "id": "IC6rcJNoLueA",
        "outputId": "8d46e3f1-5606-4c85-8511-574abec224c4"
      },
      "source": [
        "import pandas as pd\n",
        "dataset=pd.read_csv(\"weather.csv\")\n",
        "dataset"
      ],
      "execution_count": 54,
      "outputs": [
        {
          "output_type": "execute_result",
          "data": {
            "text/html": [
              "\n",
              "  <div id=\"df-a65e5d50-14e8-4e1f-995b-a5bb02cc6323\">\n",
              "    <div class=\"colab-df-container\">\n",
              "      <div>\n",
              "<style scoped>\n",
              "    .dataframe tbody tr th:only-of-type {\n",
              "        vertical-align: middle;\n",
              "    }\n",
              "\n",
              "    .dataframe tbody tr th {\n",
              "        vertical-align: top;\n",
              "    }\n",
              "\n",
              "    .dataframe thead th {\n",
              "        text-align: right;\n",
              "    }\n",
              "</style>\n",
              "<table border=\"1\" class=\"dataframe\">\n",
              "  <thead>\n",
              "    <tr style=\"text-align: right;\">\n",
              "      <th></th>\n",
              "      <th>outlook</th>\n",
              "      <th>temp</th>\n",
              "      <th>humidity</th>\n",
              "      <th>windy</th>\n",
              "      <th>class</th>\n",
              "    </tr>\n",
              "  </thead>\n",
              "  <tbody>\n",
              "    <tr>\n",
              "      <th>0</th>\n",
              "      <td>1</td>\n",
              "      <td>3</td>\n",
              "      <td>1</td>\n",
              "      <td>2</td>\n",
              "      <td>0</td>\n",
              "    </tr>\n",
              "    <tr>\n",
              "      <th>1</th>\n",
              "      <td>1</td>\n",
              "      <td>3</td>\n",
              "      <td>1</td>\n",
              "      <td>1</td>\n",
              "      <td>0</td>\n",
              "    </tr>\n",
              "    <tr>\n",
              "      <th>2</th>\n",
              "      <td>2</td>\n",
              "      <td>3</td>\n",
              "      <td>1</td>\n",
              "      <td>2</td>\n",
              "      <td>1</td>\n",
              "    </tr>\n",
              "    <tr>\n",
              "      <th>3</th>\n",
              "      <td>3</td>\n",
              "      <td>1</td>\n",
              "      <td>1</td>\n",
              "      <td>2</td>\n",
              "      <td>1</td>\n",
              "    </tr>\n",
              "    <tr>\n",
              "      <th>4</th>\n",
              "      <td>3</td>\n",
              "      <td>2</td>\n",
              "      <td>2</td>\n",
              "      <td>2</td>\n",
              "      <td>1</td>\n",
              "    </tr>\n",
              "    <tr>\n",
              "      <th>...</th>\n",
              "      <td>...</td>\n",
              "      <td>...</td>\n",
              "      <td>...</td>\n",
              "      <td>...</td>\n",
              "      <td>...</td>\n",
              "    </tr>\n",
              "    <tr>\n",
              "      <th>219</th>\n",
              "      <td>3</td>\n",
              "      <td>1</td>\n",
              "      <td>2</td>\n",
              "      <td>2</td>\n",
              "      <td>1</td>\n",
              "    </tr>\n",
              "    <tr>\n",
              "      <th>220</th>\n",
              "      <td>1</td>\n",
              "      <td>1</td>\n",
              "      <td>2</td>\n",
              "      <td>1</td>\n",
              "      <td>1</td>\n",
              "    </tr>\n",
              "    <tr>\n",
              "      <th>221</th>\n",
              "      <td>2</td>\n",
              "      <td>1</td>\n",
              "      <td>1</td>\n",
              "      <td>1</td>\n",
              "      <td>1</td>\n",
              "    </tr>\n",
              "    <tr>\n",
              "      <th>222</th>\n",
              "      <td>2</td>\n",
              "      <td>3</td>\n",
              "      <td>2</td>\n",
              "      <td>2</td>\n",
              "      <td>1</td>\n",
              "    </tr>\n",
              "    <tr>\n",
              "      <th>223</th>\n",
              "      <td>3</td>\n",
              "      <td>1</td>\n",
              "      <td>1</td>\n",
              "      <td>1</td>\n",
              "      <td>0</td>\n",
              "    </tr>\n",
              "  </tbody>\n",
              "</table>\n",
              "<p>224 rows × 5 columns</p>\n",
              "</div>\n",
              "      <button class=\"colab-df-convert\" onclick=\"convertToInteractive('df-a65e5d50-14e8-4e1f-995b-a5bb02cc6323')\"\n",
              "              title=\"Convert this dataframe to an interactive table.\"\n",
              "              style=\"display:none;\">\n",
              "        \n",
              "  <svg xmlns=\"http://www.w3.org/2000/svg\" height=\"24px\"viewBox=\"0 0 24 24\"\n",
              "       width=\"24px\">\n",
              "    <path d=\"M0 0h24v24H0V0z\" fill=\"none\"/>\n",
              "    <path d=\"M18.56 5.44l.94 2.06.94-2.06 2.06-.94-2.06-.94-.94-2.06-.94 2.06-2.06.94zm-11 1L8.5 8.5l.94-2.06 2.06-.94-2.06-.94L8.5 2.5l-.94 2.06-2.06.94zm10 10l.94 2.06.94-2.06 2.06-.94-2.06-.94-.94-2.06-.94 2.06-2.06.94z\"/><path d=\"M17.41 7.96l-1.37-1.37c-.4-.4-.92-.59-1.43-.59-.52 0-1.04.2-1.43.59L10.3 9.45l-7.72 7.72c-.78.78-.78 2.05 0 2.83L4 21.41c.39.39.9.59 1.41.59.51 0 1.02-.2 1.41-.59l7.78-7.78 2.81-2.81c.8-.78.8-2.07 0-2.86zM5.41 20L4 18.59l7.72-7.72 1.47 1.35L5.41 20z\"/>\n",
              "  </svg>\n",
              "      </button>\n",
              "      \n",
              "  <style>\n",
              "    .colab-df-container {\n",
              "      display:flex;\n",
              "      flex-wrap:wrap;\n",
              "      gap: 12px;\n",
              "    }\n",
              "\n",
              "    .colab-df-convert {\n",
              "      background-color: #E8F0FE;\n",
              "      border: none;\n",
              "      border-radius: 50%;\n",
              "      cursor: pointer;\n",
              "      display: none;\n",
              "      fill: #1967D2;\n",
              "      height: 32px;\n",
              "      padding: 0 0 0 0;\n",
              "      width: 32px;\n",
              "    }\n",
              "\n",
              "    .colab-df-convert:hover {\n",
              "      background-color: #E2EBFA;\n",
              "      box-shadow: 0px 1px 2px rgba(60, 64, 67, 0.3), 0px 1px 3px 1px rgba(60, 64, 67, 0.15);\n",
              "      fill: #174EA6;\n",
              "    }\n",
              "\n",
              "    [theme=dark] .colab-df-convert {\n",
              "      background-color: #3B4455;\n",
              "      fill: #D2E3FC;\n",
              "    }\n",
              "\n",
              "    [theme=dark] .colab-df-convert:hover {\n",
              "      background-color: #434B5C;\n",
              "      box-shadow: 0px 1px 3px 1px rgba(0, 0, 0, 0.15);\n",
              "      filter: drop-shadow(0px 1px 2px rgba(0, 0, 0, 0.3));\n",
              "      fill: #FFFFFF;\n",
              "    }\n",
              "  </style>\n",
              "\n",
              "      <script>\n",
              "        const buttonEl =\n",
              "          document.querySelector('#df-a65e5d50-14e8-4e1f-995b-a5bb02cc6323 button.colab-df-convert');\n",
              "        buttonEl.style.display =\n",
              "          google.colab.kernel.accessAllowed ? 'block' : 'none';\n",
              "\n",
              "        async function convertToInteractive(key) {\n",
              "          const element = document.querySelector('#df-a65e5d50-14e8-4e1f-995b-a5bb02cc6323');\n",
              "          const dataTable =\n",
              "            await google.colab.kernel.invokeFunction('convertToInteractive',\n",
              "                                                     [key], {});\n",
              "          if (!dataTable) return;\n",
              "\n",
              "          const docLinkHtml = 'Like what you see? Visit the ' +\n",
              "            '<a target=\"_blank\" href=https://colab.research.google.com/notebooks/data_table.ipynb>data table notebook</a>'\n",
              "            + ' to learn more about interactive tables.';\n",
              "          element.innerHTML = '';\n",
              "          dataTable['output_type'] = 'display_data';\n",
              "          await google.colab.output.renderOutput(dataTable, element);\n",
              "          const docLink = document.createElement('div');\n",
              "          docLink.innerHTML = docLinkHtml;\n",
              "          element.appendChild(docLink);\n",
              "        }\n",
              "      </script>\n",
              "    </div>\n",
              "  </div>\n",
              "  "
            ],
            "text/plain": [
              "     outlook  temp  humidity  windy  class\n",
              "0          1     3         1      2      0\n",
              "1          1     3         1      1      0\n",
              "2          2     3         1      2      1\n",
              "3          3     1         1      2      1\n",
              "4          3     2         2      2      1\n",
              "..       ...   ...       ...    ...    ...\n",
              "219        3     1         2      2      1\n",
              "220        1     1         2      1      1\n",
              "221        2     1         1      1      1\n",
              "222        2     3         2      2      1\n",
              "223        3     1         1      1      0\n",
              "\n",
              "[224 rows x 5 columns]"
            ]
          },
          "metadata": {},
          "execution_count": 54
        }
      ]
    },
    {
      "cell_type": "code",
      "metadata": {
        "colab": {
          "base_uri": "https://localhost:8080/"
        },
        "id": "VM7v6kgLPmPZ",
        "outputId": "4af20ead-cde9-4b99-da07-7d8d3f79dffa"
      },
      "source": [
        "dataset.dtypes"
      ],
      "execution_count": 55,
      "outputs": [
        {
          "output_type": "execute_result",
          "data": {
            "text/plain": [
              "outlook     int64\n",
              "temp        int64\n",
              "humidity    int64\n",
              "windy       int64\n",
              "class       int64\n",
              "dtype: object"
            ]
          },
          "metadata": {},
          "execution_count": 55
        }
      ]
    },
    {
      "cell_type": "code",
      "metadata": {
        "colab": {
          "base_uri": "https://localhost:8080/"
        },
        "id": "HpPMiVRyNwyi",
        "outputId": "cc01ec55-22da-48aa-ca6d-6d956116c254"
      },
      "source": [
        "dataset.info()"
      ],
      "execution_count": 56,
      "outputs": [
        {
          "output_type": "stream",
          "name": "stdout",
          "text": [
            "<class 'pandas.core.frame.DataFrame'>\n",
            "RangeIndex: 224 entries, 0 to 223\n",
            "Data columns (total 5 columns):\n",
            " #   Column    Non-Null Count  Dtype\n",
            "---  ------    --------------  -----\n",
            " 0   outlook   224 non-null    int64\n",
            " 1   temp      224 non-null    int64\n",
            " 2   humidity  224 non-null    int64\n",
            " 3   windy     224 non-null    int64\n",
            " 4   class     224 non-null    int64\n",
            "dtypes: int64(5)\n",
            "memory usage: 8.9 KB\n"
          ]
        }
      ]
    },
    {
      "cell_type": "code",
      "metadata": {
        "colab": {
          "base_uri": "https://localhost:8080/",
          "height": 363
        },
        "id": "4UNjP6I0Nz2W",
        "outputId": "68968a57-a01a-48ed-805a-9aac87d9e0c9"
      },
      "source": [
        "dataset.head(10)"
      ],
      "execution_count": 57,
      "outputs": [
        {
          "output_type": "execute_result",
          "data": {
            "text/html": [
              "\n",
              "  <div id=\"df-933e0dce-edae-4b4f-ad75-cff46efec4c3\">\n",
              "    <div class=\"colab-df-container\">\n",
              "      <div>\n",
              "<style scoped>\n",
              "    .dataframe tbody tr th:only-of-type {\n",
              "        vertical-align: middle;\n",
              "    }\n",
              "\n",
              "    .dataframe tbody tr th {\n",
              "        vertical-align: top;\n",
              "    }\n",
              "\n",
              "    .dataframe thead th {\n",
              "        text-align: right;\n",
              "    }\n",
              "</style>\n",
              "<table border=\"1\" class=\"dataframe\">\n",
              "  <thead>\n",
              "    <tr style=\"text-align: right;\">\n",
              "      <th></th>\n",
              "      <th>outlook</th>\n",
              "      <th>temp</th>\n",
              "      <th>humidity</th>\n",
              "      <th>windy</th>\n",
              "      <th>class</th>\n",
              "    </tr>\n",
              "  </thead>\n",
              "  <tbody>\n",
              "    <tr>\n",
              "      <th>0</th>\n",
              "      <td>1</td>\n",
              "      <td>3</td>\n",
              "      <td>1</td>\n",
              "      <td>2</td>\n",
              "      <td>0</td>\n",
              "    </tr>\n",
              "    <tr>\n",
              "      <th>1</th>\n",
              "      <td>1</td>\n",
              "      <td>3</td>\n",
              "      <td>1</td>\n",
              "      <td>1</td>\n",
              "      <td>0</td>\n",
              "    </tr>\n",
              "    <tr>\n",
              "      <th>2</th>\n",
              "      <td>2</td>\n",
              "      <td>3</td>\n",
              "      <td>1</td>\n",
              "      <td>2</td>\n",
              "      <td>1</td>\n",
              "    </tr>\n",
              "    <tr>\n",
              "      <th>3</th>\n",
              "      <td>3</td>\n",
              "      <td>1</td>\n",
              "      <td>1</td>\n",
              "      <td>2</td>\n",
              "      <td>1</td>\n",
              "    </tr>\n",
              "    <tr>\n",
              "      <th>4</th>\n",
              "      <td>3</td>\n",
              "      <td>2</td>\n",
              "      <td>2</td>\n",
              "      <td>2</td>\n",
              "      <td>1</td>\n",
              "    </tr>\n",
              "    <tr>\n",
              "      <th>5</th>\n",
              "      <td>3</td>\n",
              "      <td>2</td>\n",
              "      <td>2</td>\n",
              "      <td>1</td>\n",
              "      <td>0</td>\n",
              "    </tr>\n",
              "    <tr>\n",
              "      <th>6</th>\n",
              "      <td>2</td>\n",
              "      <td>2</td>\n",
              "      <td>2</td>\n",
              "      <td>1</td>\n",
              "      <td>1</td>\n",
              "    </tr>\n",
              "    <tr>\n",
              "      <th>7</th>\n",
              "      <td>1</td>\n",
              "      <td>1</td>\n",
              "      <td>1</td>\n",
              "      <td>2</td>\n",
              "      <td>0</td>\n",
              "    </tr>\n",
              "    <tr>\n",
              "      <th>8</th>\n",
              "      <td>1</td>\n",
              "      <td>2</td>\n",
              "      <td>2</td>\n",
              "      <td>2</td>\n",
              "      <td>1</td>\n",
              "    </tr>\n",
              "    <tr>\n",
              "      <th>9</th>\n",
              "      <td>3</td>\n",
              "      <td>1</td>\n",
              "      <td>2</td>\n",
              "      <td>2</td>\n",
              "      <td>1</td>\n",
              "    </tr>\n",
              "  </tbody>\n",
              "</table>\n",
              "</div>\n",
              "      <button class=\"colab-df-convert\" onclick=\"convertToInteractive('df-933e0dce-edae-4b4f-ad75-cff46efec4c3')\"\n",
              "              title=\"Convert this dataframe to an interactive table.\"\n",
              "              style=\"display:none;\">\n",
              "        \n",
              "  <svg xmlns=\"http://www.w3.org/2000/svg\" height=\"24px\"viewBox=\"0 0 24 24\"\n",
              "       width=\"24px\">\n",
              "    <path d=\"M0 0h24v24H0V0z\" fill=\"none\"/>\n",
              "    <path d=\"M18.56 5.44l.94 2.06.94-2.06 2.06-.94-2.06-.94-.94-2.06-.94 2.06-2.06.94zm-11 1L8.5 8.5l.94-2.06 2.06-.94-2.06-.94L8.5 2.5l-.94 2.06-2.06.94zm10 10l.94 2.06.94-2.06 2.06-.94-2.06-.94-.94-2.06-.94 2.06-2.06.94z\"/><path d=\"M17.41 7.96l-1.37-1.37c-.4-.4-.92-.59-1.43-.59-.52 0-1.04.2-1.43.59L10.3 9.45l-7.72 7.72c-.78.78-.78 2.05 0 2.83L4 21.41c.39.39.9.59 1.41.59.51 0 1.02-.2 1.41-.59l7.78-7.78 2.81-2.81c.8-.78.8-2.07 0-2.86zM5.41 20L4 18.59l7.72-7.72 1.47 1.35L5.41 20z\"/>\n",
              "  </svg>\n",
              "      </button>\n",
              "      \n",
              "  <style>\n",
              "    .colab-df-container {\n",
              "      display:flex;\n",
              "      flex-wrap:wrap;\n",
              "      gap: 12px;\n",
              "    }\n",
              "\n",
              "    .colab-df-convert {\n",
              "      background-color: #E8F0FE;\n",
              "      border: none;\n",
              "      border-radius: 50%;\n",
              "      cursor: pointer;\n",
              "      display: none;\n",
              "      fill: #1967D2;\n",
              "      height: 32px;\n",
              "      padding: 0 0 0 0;\n",
              "      width: 32px;\n",
              "    }\n",
              "\n",
              "    .colab-df-convert:hover {\n",
              "      background-color: #E2EBFA;\n",
              "      box-shadow: 0px 1px 2px rgba(60, 64, 67, 0.3), 0px 1px 3px 1px rgba(60, 64, 67, 0.15);\n",
              "      fill: #174EA6;\n",
              "    }\n",
              "\n",
              "    [theme=dark] .colab-df-convert {\n",
              "      background-color: #3B4455;\n",
              "      fill: #D2E3FC;\n",
              "    }\n",
              "\n",
              "    [theme=dark] .colab-df-convert:hover {\n",
              "      background-color: #434B5C;\n",
              "      box-shadow: 0px 1px 3px 1px rgba(0, 0, 0, 0.15);\n",
              "      filter: drop-shadow(0px 1px 2px rgba(0, 0, 0, 0.3));\n",
              "      fill: #FFFFFF;\n",
              "    }\n",
              "  </style>\n",
              "\n",
              "      <script>\n",
              "        const buttonEl =\n",
              "          document.querySelector('#df-933e0dce-edae-4b4f-ad75-cff46efec4c3 button.colab-df-convert');\n",
              "        buttonEl.style.display =\n",
              "          google.colab.kernel.accessAllowed ? 'block' : 'none';\n",
              "\n",
              "        async function convertToInteractive(key) {\n",
              "          const element = document.querySelector('#df-933e0dce-edae-4b4f-ad75-cff46efec4c3');\n",
              "          const dataTable =\n",
              "            await google.colab.kernel.invokeFunction('convertToInteractive',\n",
              "                                                     [key], {});\n",
              "          if (!dataTable) return;\n",
              "\n",
              "          const docLinkHtml = 'Like what you see? Visit the ' +\n",
              "            '<a target=\"_blank\" href=https://colab.research.google.com/notebooks/data_table.ipynb>data table notebook</a>'\n",
              "            + ' to learn more about interactive tables.';\n",
              "          element.innerHTML = '';\n",
              "          dataTable['output_type'] = 'display_data';\n",
              "          await google.colab.output.renderOutput(dataTable, element);\n",
              "          const docLink = document.createElement('div');\n",
              "          docLink.innerHTML = docLinkHtml;\n",
              "          element.appendChild(docLink);\n",
              "        }\n",
              "      </script>\n",
              "    </div>\n",
              "  </div>\n",
              "  "
            ],
            "text/plain": [
              "   outlook  temp  humidity  windy  class\n",
              "0        1     3         1      2      0\n",
              "1        1     3         1      1      0\n",
              "2        2     3         1      2      1\n",
              "3        3     1         1      2      1\n",
              "4        3     2         2      2      1\n",
              "5        3     2         2      1      0\n",
              "6        2     2         2      1      1\n",
              "7        1     1         1      2      0\n",
              "8        1     2         2      2      1\n",
              "9        3     1         2      2      1"
            ]
          },
          "metadata": {},
          "execution_count": 57
        }
      ]
    },
    {
      "cell_type": "code",
      "metadata": {
        "colab": {
          "base_uri": "https://localhost:8080/",
          "height": 363
        },
        "id": "U5JlkwiTN3wO",
        "outputId": "c004273c-8c6e-4aa4-b336-432d740faf4c"
      },
      "source": [
        "dataset.tail(10)"
      ],
      "execution_count": 58,
      "outputs": [
        {
          "output_type": "execute_result",
          "data": {
            "text/html": [
              "\n",
              "  <div id=\"df-f2c99404-ba28-4258-a263-a6b295dc1782\">\n",
              "    <div class=\"colab-df-container\">\n",
              "      <div>\n",
              "<style scoped>\n",
              "    .dataframe tbody tr th:only-of-type {\n",
              "        vertical-align: middle;\n",
              "    }\n",
              "\n",
              "    .dataframe tbody tr th {\n",
              "        vertical-align: top;\n",
              "    }\n",
              "\n",
              "    .dataframe thead th {\n",
              "        text-align: right;\n",
              "    }\n",
              "</style>\n",
              "<table border=\"1\" class=\"dataframe\">\n",
              "  <thead>\n",
              "    <tr style=\"text-align: right;\">\n",
              "      <th></th>\n",
              "      <th>outlook</th>\n",
              "      <th>temp</th>\n",
              "      <th>humidity</th>\n",
              "      <th>windy</th>\n",
              "      <th>class</th>\n",
              "    </tr>\n",
              "  </thead>\n",
              "  <tbody>\n",
              "    <tr>\n",
              "      <th>214</th>\n",
              "      <td>3</td>\n",
              "      <td>2</td>\n",
              "      <td>2</td>\n",
              "      <td>2</td>\n",
              "      <td>1</td>\n",
              "    </tr>\n",
              "    <tr>\n",
              "      <th>215</th>\n",
              "      <td>3</td>\n",
              "      <td>2</td>\n",
              "      <td>2</td>\n",
              "      <td>1</td>\n",
              "      <td>0</td>\n",
              "    </tr>\n",
              "    <tr>\n",
              "      <th>216</th>\n",
              "      <td>2</td>\n",
              "      <td>2</td>\n",
              "      <td>2</td>\n",
              "      <td>1</td>\n",
              "      <td>1</td>\n",
              "    </tr>\n",
              "    <tr>\n",
              "      <th>217</th>\n",
              "      <td>1</td>\n",
              "      <td>1</td>\n",
              "      <td>1</td>\n",
              "      <td>2</td>\n",
              "      <td>0</td>\n",
              "    </tr>\n",
              "    <tr>\n",
              "      <th>218</th>\n",
              "      <td>1</td>\n",
              "      <td>2</td>\n",
              "      <td>2</td>\n",
              "      <td>2</td>\n",
              "      <td>1</td>\n",
              "    </tr>\n",
              "    <tr>\n",
              "      <th>219</th>\n",
              "      <td>3</td>\n",
              "      <td>1</td>\n",
              "      <td>2</td>\n",
              "      <td>2</td>\n",
              "      <td>1</td>\n",
              "    </tr>\n",
              "    <tr>\n",
              "      <th>220</th>\n",
              "      <td>1</td>\n",
              "      <td>1</td>\n",
              "      <td>2</td>\n",
              "      <td>1</td>\n",
              "      <td>1</td>\n",
              "    </tr>\n",
              "    <tr>\n",
              "      <th>221</th>\n",
              "      <td>2</td>\n",
              "      <td>1</td>\n",
              "      <td>1</td>\n",
              "      <td>1</td>\n",
              "      <td>1</td>\n",
              "    </tr>\n",
              "    <tr>\n",
              "      <th>222</th>\n",
              "      <td>2</td>\n",
              "      <td>3</td>\n",
              "      <td>2</td>\n",
              "      <td>2</td>\n",
              "      <td>1</td>\n",
              "    </tr>\n",
              "    <tr>\n",
              "      <th>223</th>\n",
              "      <td>3</td>\n",
              "      <td>1</td>\n",
              "      <td>1</td>\n",
              "      <td>1</td>\n",
              "      <td>0</td>\n",
              "    </tr>\n",
              "  </tbody>\n",
              "</table>\n",
              "</div>\n",
              "      <button class=\"colab-df-convert\" onclick=\"convertToInteractive('df-f2c99404-ba28-4258-a263-a6b295dc1782')\"\n",
              "              title=\"Convert this dataframe to an interactive table.\"\n",
              "              style=\"display:none;\">\n",
              "        \n",
              "  <svg xmlns=\"http://www.w3.org/2000/svg\" height=\"24px\"viewBox=\"0 0 24 24\"\n",
              "       width=\"24px\">\n",
              "    <path d=\"M0 0h24v24H0V0z\" fill=\"none\"/>\n",
              "    <path d=\"M18.56 5.44l.94 2.06.94-2.06 2.06-.94-2.06-.94-.94-2.06-.94 2.06-2.06.94zm-11 1L8.5 8.5l.94-2.06 2.06-.94-2.06-.94L8.5 2.5l-.94 2.06-2.06.94zm10 10l.94 2.06.94-2.06 2.06-.94-2.06-.94-.94-2.06-.94 2.06-2.06.94z\"/><path d=\"M17.41 7.96l-1.37-1.37c-.4-.4-.92-.59-1.43-.59-.52 0-1.04.2-1.43.59L10.3 9.45l-7.72 7.72c-.78.78-.78 2.05 0 2.83L4 21.41c.39.39.9.59 1.41.59.51 0 1.02-.2 1.41-.59l7.78-7.78 2.81-2.81c.8-.78.8-2.07 0-2.86zM5.41 20L4 18.59l7.72-7.72 1.47 1.35L5.41 20z\"/>\n",
              "  </svg>\n",
              "      </button>\n",
              "      \n",
              "  <style>\n",
              "    .colab-df-container {\n",
              "      display:flex;\n",
              "      flex-wrap:wrap;\n",
              "      gap: 12px;\n",
              "    }\n",
              "\n",
              "    .colab-df-convert {\n",
              "      background-color: #E8F0FE;\n",
              "      border: none;\n",
              "      border-radius: 50%;\n",
              "      cursor: pointer;\n",
              "      display: none;\n",
              "      fill: #1967D2;\n",
              "      height: 32px;\n",
              "      padding: 0 0 0 0;\n",
              "      width: 32px;\n",
              "    }\n",
              "\n",
              "    .colab-df-convert:hover {\n",
              "      background-color: #E2EBFA;\n",
              "      box-shadow: 0px 1px 2px rgba(60, 64, 67, 0.3), 0px 1px 3px 1px rgba(60, 64, 67, 0.15);\n",
              "      fill: #174EA6;\n",
              "    }\n",
              "\n",
              "    [theme=dark] .colab-df-convert {\n",
              "      background-color: #3B4455;\n",
              "      fill: #D2E3FC;\n",
              "    }\n",
              "\n",
              "    [theme=dark] .colab-df-convert:hover {\n",
              "      background-color: #434B5C;\n",
              "      box-shadow: 0px 1px 3px 1px rgba(0, 0, 0, 0.15);\n",
              "      filter: drop-shadow(0px 1px 2px rgba(0, 0, 0, 0.3));\n",
              "      fill: #FFFFFF;\n",
              "    }\n",
              "  </style>\n",
              "\n",
              "      <script>\n",
              "        const buttonEl =\n",
              "          document.querySelector('#df-f2c99404-ba28-4258-a263-a6b295dc1782 button.colab-df-convert');\n",
              "        buttonEl.style.display =\n",
              "          google.colab.kernel.accessAllowed ? 'block' : 'none';\n",
              "\n",
              "        async function convertToInteractive(key) {\n",
              "          const element = document.querySelector('#df-f2c99404-ba28-4258-a263-a6b295dc1782');\n",
              "          const dataTable =\n",
              "            await google.colab.kernel.invokeFunction('convertToInteractive',\n",
              "                                                     [key], {});\n",
              "          if (!dataTable) return;\n",
              "\n",
              "          const docLinkHtml = 'Like what you see? Visit the ' +\n",
              "            '<a target=\"_blank\" href=https://colab.research.google.com/notebooks/data_table.ipynb>data table notebook</a>'\n",
              "            + ' to learn more about interactive tables.';\n",
              "          element.innerHTML = '';\n",
              "          dataTable['output_type'] = 'display_data';\n",
              "          await google.colab.output.renderOutput(dataTable, element);\n",
              "          const docLink = document.createElement('div');\n",
              "          docLink.innerHTML = docLinkHtml;\n",
              "          element.appendChild(docLink);\n",
              "        }\n",
              "      </script>\n",
              "    </div>\n",
              "  </div>\n",
              "  "
            ],
            "text/plain": [
              "     outlook  temp  humidity  windy  class\n",
              "214        3     2         2      2      1\n",
              "215        3     2         2      1      0\n",
              "216        2     2         2      1      1\n",
              "217        1     1         1      2      0\n",
              "218        1     2         2      2      1\n",
              "219        3     1         2      2      1\n",
              "220        1     1         2      1      1\n",
              "221        2     1         1      1      1\n",
              "222        2     3         2      2      1\n",
              "223        3     1         1      1      0"
            ]
          },
          "metadata": {},
          "execution_count": 58
        }
      ]
    },
    {
      "cell_type": "code",
      "metadata": {
        "colab": {
          "base_uri": "https://localhost:8080/"
        },
        "id": "3JdpusEQN8C1",
        "outputId": "1f585aa0-a761-48a2-ba25-de1f8e0b6f97"
      },
      "source": [
        "dataset.shape"
      ],
      "execution_count": 60,
      "outputs": [
        {
          "output_type": "execute_result",
          "data": {
            "text/plain": [
              "(224, 5)"
            ]
          },
          "metadata": {},
          "execution_count": 60
        }
      ]
    },
    {
      "cell_type": "code",
      "metadata": {
        "colab": {
          "base_uri": "https://localhost:8080/",
          "height": 300
        },
        "id": "Fy7tbXRlTXy6",
        "outputId": "901dc522-d3a8-46d5-da5a-394c6702b22e"
      },
      "source": [
        "dataset.describe()"
      ],
      "execution_count": 59,
      "outputs": [
        {
          "output_type": "execute_result",
          "data": {
            "text/html": [
              "\n",
              "  <div id=\"df-f20e306c-6b1e-46c2-a340-4a55a9d17277\">\n",
              "    <div class=\"colab-df-container\">\n",
              "      <div>\n",
              "<style scoped>\n",
              "    .dataframe tbody tr th:only-of-type {\n",
              "        vertical-align: middle;\n",
              "    }\n",
              "\n",
              "    .dataframe tbody tr th {\n",
              "        vertical-align: top;\n",
              "    }\n",
              "\n",
              "    .dataframe thead th {\n",
              "        text-align: right;\n",
              "    }\n",
              "</style>\n",
              "<table border=\"1\" class=\"dataframe\">\n",
              "  <thead>\n",
              "    <tr style=\"text-align: right;\">\n",
              "      <th></th>\n",
              "      <th>outlook</th>\n",
              "      <th>temp</th>\n",
              "      <th>humidity</th>\n",
              "      <th>windy</th>\n",
              "      <th>class</th>\n",
              "    </tr>\n",
              "  </thead>\n",
              "  <tbody>\n",
              "    <tr>\n",
              "      <th>count</th>\n",
              "      <td>224.000000</td>\n",
              "      <td>224.000000</td>\n",
              "      <td>224.00000</td>\n",
              "      <td>224.000000</td>\n",
              "      <td>224.000000</td>\n",
              "    </tr>\n",
              "    <tr>\n",
              "      <th>mean</th>\n",
              "      <td>2.000000</td>\n",
              "      <td>1.857143</td>\n",
              "      <td>1.50000</td>\n",
              "      <td>1.571429</td>\n",
              "      <td>0.642857</td>\n",
              "    </tr>\n",
              "    <tr>\n",
              "      <th>std</th>\n",
              "      <td>0.847047</td>\n",
              "      <td>0.834859</td>\n",
              "      <td>0.50112</td>\n",
              "      <td>0.495980</td>\n",
              "      <td>0.480231</td>\n",
              "    </tr>\n",
              "    <tr>\n",
              "      <th>min</th>\n",
              "      <td>1.000000</td>\n",
              "      <td>1.000000</td>\n",
              "      <td>1.00000</td>\n",
              "      <td>1.000000</td>\n",
              "      <td>0.000000</td>\n",
              "    </tr>\n",
              "    <tr>\n",
              "      <th>25%</th>\n",
              "      <td>1.000000</td>\n",
              "      <td>1.000000</td>\n",
              "      <td>1.00000</td>\n",
              "      <td>1.000000</td>\n",
              "      <td>0.000000</td>\n",
              "    </tr>\n",
              "    <tr>\n",
              "      <th>50%</th>\n",
              "      <td>2.000000</td>\n",
              "      <td>2.000000</td>\n",
              "      <td>1.50000</td>\n",
              "      <td>2.000000</td>\n",
              "      <td>1.000000</td>\n",
              "    </tr>\n",
              "    <tr>\n",
              "      <th>75%</th>\n",
              "      <td>3.000000</td>\n",
              "      <td>3.000000</td>\n",
              "      <td>2.00000</td>\n",
              "      <td>2.000000</td>\n",
              "      <td>1.000000</td>\n",
              "    </tr>\n",
              "    <tr>\n",
              "      <th>max</th>\n",
              "      <td>3.000000</td>\n",
              "      <td>3.000000</td>\n",
              "      <td>2.00000</td>\n",
              "      <td>2.000000</td>\n",
              "      <td>1.000000</td>\n",
              "    </tr>\n",
              "  </tbody>\n",
              "</table>\n",
              "</div>\n",
              "      <button class=\"colab-df-convert\" onclick=\"convertToInteractive('df-f20e306c-6b1e-46c2-a340-4a55a9d17277')\"\n",
              "              title=\"Convert this dataframe to an interactive table.\"\n",
              "              style=\"display:none;\">\n",
              "        \n",
              "  <svg xmlns=\"http://www.w3.org/2000/svg\" height=\"24px\"viewBox=\"0 0 24 24\"\n",
              "       width=\"24px\">\n",
              "    <path d=\"M0 0h24v24H0V0z\" fill=\"none\"/>\n",
              "    <path d=\"M18.56 5.44l.94 2.06.94-2.06 2.06-.94-2.06-.94-.94-2.06-.94 2.06-2.06.94zm-11 1L8.5 8.5l.94-2.06 2.06-.94-2.06-.94L8.5 2.5l-.94 2.06-2.06.94zm10 10l.94 2.06.94-2.06 2.06-.94-2.06-.94-.94-2.06-.94 2.06-2.06.94z\"/><path d=\"M17.41 7.96l-1.37-1.37c-.4-.4-.92-.59-1.43-.59-.52 0-1.04.2-1.43.59L10.3 9.45l-7.72 7.72c-.78.78-.78 2.05 0 2.83L4 21.41c.39.39.9.59 1.41.59.51 0 1.02-.2 1.41-.59l7.78-7.78 2.81-2.81c.8-.78.8-2.07 0-2.86zM5.41 20L4 18.59l7.72-7.72 1.47 1.35L5.41 20z\"/>\n",
              "  </svg>\n",
              "      </button>\n",
              "      \n",
              "  <style>\n",
              "    .colab-df-container {\n",
              "      display:flex;\n",
              "      flex-wrap:wrap;\n",
              "      gap: 12px;\n",
              "    }\n",
              "\n",
              "    .colab-df-convert {\n",
              "      background-color: #E8F0FE;\n",
              "      border: none;\n",
              "      border-radius: 50%;\n",
              "      cursor: pointer;\n",
              "      display: none;\n",
              "      fill: #1967D2;\n",
              "      height: 32px;\n",
              "      padding: 0 0 0 0;\n",
              "      width: 32px;\n",
              "    }\n",
              "\n",
              "    .colab-df-convert:hover {\n",
              "      background-color: #E2EBFA;\n",
              "      box-shadow: 0px 1px 2px rgba(60, 64, 67, 0.3), 0px 1px 3px 1px rgba(60, 64, 67, 0.15);\n",
              "      fill: #174EA6;\n",
              "    }\n",
              "\n",
              "    [theme=dark] .colab-df-convert {\n",
              "      background-color: #3B4455;\n",
              "      fill: #D2E3FC;\n",
              "    }\n",
              "\n",
              "    [theme=dark] .colab-df-convert:hover {\n",
              "      background-color: #434B5C;\n",
              "      box-shadow: 0px 1px 3px 1px rgba(0, 0, 0, 0.15);\n",
              "      filter: drop-shadow(0px 1px 2px rgba(0, 0, 0, 0.3));\n",
              "      fill: #FFFFFF;\n",
              "    }\n",
              "  </style>\n",
              "\n",
              "      <script>\n",
              "        const buttonEl =\n",
              "          document.querySelector('#df-f20e306c-6b1e-46c2-a340-4a55a9d17277 button.colab-df-convert');\n",
              "        buttonEl.style.display =\n",
              "          google.colab.kernel.accessAllowed ? 'block' : 'none';\n",
              "\n",
              "        async function convertToInteractive(key) {\n",
              "          const element = document.querySelector('#df-f20e306c-6b1e-46c2-a340-4a55a9d17277');\n",
              "          const dataTable =\n",
              "            await google.colab.kernel.invokeFunction('convertToInteractive',\n",
              "                                                     [key], {});\n",
              "          if (!dataTable) return;\n",
              "\n",
              "          const docLinkHtml = 'Like what you see? Visit the ' +\n",
              "            '<a target=\"_blank\" href=https://colab.research.google.com/notebooks/data_table.ipynb>data table notebook</a>'\n",
              "            + ' to learn more about interactive tables.';\n",
              "          element.innerHTML = '';\n",
              "          dataTable['output_type'] = 'display_data';\n",
              "          await google.colab.output.renderOutput(dataTable, element);\n",
              "          const docLink = document.createElement('div');\n",
              "          docLink.innerHTML = docLinkHtml;\n",
              "          element.appendChild(docLink);\n",
              "        }\n",
              "      </script>\n",
              "    </div>\n",
              "  </div>\n",
              "  "
            ],
            "text/plain": [
              "          outlook        temp   humidity       windy       class\n",
              "count  224.000000  224.000000  224.00000  224.000000  224.000000\n",
              "mean     2.000000    1.857143    1.50000    1.571429    0.642857\n",
              "std      0.847047    0.834859    0.50112    0.495980    0.480231\n",
              "min      1.000000    1.000000    1.00000    1.000000    0.000000\n",
              "25%      1.000000    1.000000    1.00000    1.000000    0.000000\n",
              "50%      2.000000    2.000000    1.50000    2.000000    1.000000\n",
              "75%      3.000000    3.000000    2.00000    2.000000    1.000000\n",
              "max      3.000000    3.000000    2.00000    2.000000    1.000000"
            ]
          },
          "metadata": {},
          "execution_count": 59
        }
      ]
    },
    {
      "cell_type": "code",
      "metadata": {
        "colab": {
          "base_uri": "https://localhost:8080/",
          "height": 424
        },
        "id": "ScPmzFGHTkoB",
        "outputId": "c7ea0077-5123-4974-8b26-ff2d900830fd"
      },
      "source": [
        "dataset.sort_index(axis=1,ascending=True)"
      ],
      "execution_count": 63,
      "outputs": [
        {
          "output_type": "execute_result",
          "data": {
            "text/html": [
              "\n",
              "  <div id=\"df-5af44726-e27b-4912-b216-75f1beb5cbe3\">\n",
              "    <div class=\"colab-df-container\">\n",
              "      <div>\n",
              "<style scoped>\n",
              "    .dataframe tbody tr th:only-of-type {\n",
              "        vertical-align: middle;\n",
              "    }\n",
              "\n",
              "    .dataframe tbody tr th {\n",
              "        vertical-align: top;\n",
              "    }\n",
              "\n",
              "    .dataframe thead th {\n",
              "        text-align: right;\n",
              "    }\n",
              "</style>\n",
              "<table border=\"1\" class=\"dataframe\">\n",
              "  <thead>\n",
              "    <tr style=\"text-align: right;\">\n",
              "      <th></th>\n",
              "      <th>class</th>\n",
              "      <th>humidity</th>\n",
              "      <th>outlook</th>\n",
              "      <th>temp</th>\n",
              "      <th>windy</th>\n",
              "    </tr>\n",
              "  </thead>\n",
              "  <tbody>\n",
              "    <tr>\n",
              "      <th>0</th>\n",
              "      <td>0</td>\n",
              "      <td>1</td>\n",
              "      <td>1</td>\n",
              "      <td>3</td>\n",
              "      <td>2</td>\n",
              "    </tr>\n",
              "    <tr>\n",
              "      <th>1</th>\n",
              "      <td>0</td>\n",
              "      <td>1</td>\n",
              "      <td>1</td>\n",
              "      <td>3</td>\n",
              "      <td>1</td>\n",
              "    </tr>\n",
              "    <tr>\n",
              "      <th>2</th>\n",
              "      <td>1</td>\n",
              "      <td>1</td>\n",
              "      <td>2</td>\n",
              "      <td>3</td>\n",
              "      <td>2</td>\n",
              "    </tr>\n",
              "    <tr>\n",
              "      <th>3</th>\n",
              "      <td>1</td>\n",
              "      <td>1</td>\n",
              "      <td>3</td>\n",
              "      <td>1</td>\n",
              "      <td>2</td>\n",
              "    </tr>\n",
              "    <tr>\n",
              "      <th>4</th>\n",
              "      <td>1</td>\n",
              "      <td>2</td>\n",
              "      <td>3</td>\n",
              "      <td>2</td>\n",
              "      <td>2</td>\n",
              "    </tr>\n",
              "    <tr>\n",
              "      <th>...</th>\n",
              "      <td>...</td>\n",
              "      <td>...</td>\n",
              "      <td>...</td>\n",
              "      <td>...</td>\n",
              "      <td>...</td>\n",
              "    </tr>\n",
              "    <tr>\n",
              "      <th>219</th>\n",
              "      <td>1</td>\n",
              "      <td>2</td>\n",
              "      <td>3</td>\n",
              "      <td>1</td>\n",
              "      <td>2</td>\n",
              "    </tr>\n",
              "    <tr>\n",
              "      <th>220</th>\n",
              "      <td>1</td>\n",
              "      <td>2</td>\n",
              "      <td>1</td>\n",
              "      <td>1</td>\n",
              "      <td>1</td>\n",
              "    </tr>\n",
              "    <tr>\n",
              "      <th>221</th>\n",
              "      <td>1</td>\n",
              "      <td>1</td>\n",
              "      <td>2</td>\n",
              "      <td>1</td>\n",
              "      <td>1</td>\n",
              "    </tr>\n",
              "    <tr>\n",
              "      <th>222</th>\n",
              "      <td>1</td>\n",
              "      <td>2</td>\n",
              "      <td>2</td>\n",
              "      <td>3</td>\n",
              "      <td>2</td>\n",
              "    </tr>\n",
              "    <tr>\n",
              "      <th>223</th>\n",
              "      <td>0</td>\n",
              "      <td>1</td>\n",
              "      <td>3</td>\n",
              "      <td>1</td>\n",
              "      <td>1</td>\n",
              "    </tr>\n",
              "  </tbody>\n",
              "</table>\n",
              "<p>224 rows × 5 columns</p>\n",
              "</div>\n",
              "      <button class=\"colab-df-convert\" onclick=\"convertToInteractive('df-5af44726-e27b-4912-b216-75f1beb5cbe3')\"\n",
              "              title=\"Convert this dataframe to an interactive table.\"\n",
              "              style=\"display:none;\">\n",
              "        \n",
              "  <svg xmlns=\"http://www.w3.org/2000/svg\" height=\"24px\"viewBox=\"0 0 24 24\"\n",
              "       width=\"24px\">\n",
              "    <path d=\"M0 0h24v24H0V0z\" fill=\"none\"/>\n",
              "    <path d=\"M18.56 5.44l.94 2.06.94-2.06 2.06-.94-2.06-.94-.94-2.06-.94 2.06-2.06.94zm-11 1L8.5 8.5l.94-2.06 2.06-.94-2.06-.94L8.5 2.5l-.94 2.06-2.06.94zm10 10l.94 2.06.94-2.06 2.06-.94-2.06-.94-.94-2.06-.94 2.06-2.06.94z\"/><path d=\"M17.41 7.96l-1.37-1.37c-.4-.4-.92-.59-1.43-.59-.52 0-1.04.2-1.43.59L10.3 9.45l-7.72 7.72c-.78.78-.78 2.05 0 2.83L4 21.41c.39.39.9.59 1.41.59.51 0 1.02-.2 1.41-.59l7.78-7.78 2.81-2.81c.8-.78.8-2.07 0-2.86zM5.41 20L4 18.59l7.72-7.72 1.47 1.35L5.41 20z\"/>\n",
              "  </svg>\n",
              "      </button>\n",
              "      \n",
              "  <style>\n",
              "    .colab-df-container {\n",
              "      display:flex;\n",
              "      flex-wrap:wrap;\n",
              "      gap: 12px;\n",
              "    }\n",
              "\n",
              "    .colab-df-convert {\n",
              "      background-color: #E8F0FE;\n",
              "      border: none;\n",
              "      border-radius: 50%;\n",
              "      cursor: pointer;\n",
              "      display: none;\n",
              "      fill: #1967D2;\n",
              "      height: 32px;\n",
              "      padding: 0 0 0 0;\n",
              "      width: 32px;\n",
              "    }\n",
              "\n",
              "    .colab-df-convert:hover {\n",
              "      background-color: #E2EBFA;\n",
              "      box-shadow: 0px 1px 2px rgba(60, 64, 67, 0.3), 0px 1px 3px 1px rgba(60, 64, 67, 0.15);\n",
              "      fill: #174EA6;\n",
              "    }\n",
              "\n",
              "    [theme=dark] .colab-df-convert {\n",
              "      background-color: #3B4455;\n",
              "      fill: #D2E3FC;\n",
              "    }\n",
              "\n",
              "    [theme=dark] .colab-df-convert:hover {\n",
              "      background-color: #434B5C;\n",
              "      box-shadow: 0px 1px 3px 1px rgba(0, 0, 0, 0.15);\n",
              "      filter: drop-shadow(0px 1px 2px rgba(0, 0, 0, 0.3));\n",
              "      fill: #FFFFFF;\n",
              "    }\n",
              "  </style>\n",
              "\n",
              "      <script>\n",
              "        const buttonEl =\n",
              "          document.querySelector('#df-5af44726-e27b-4912-b216-75f1beb5cbe3 button.colab-df-convert');\n",
              "        buttonEl.style.display =\n",
              "          google.colab.kernel.accessAllowed ? 'block' : 'none';\n",
              "\n",
              "        async function convertToInteractive(key) {\n",
              "          const element = document.querySelector('#df-5af44726-e27b-4912-b216-75f1beb5cbe3');\n",
              "          const dataTable =\n",
              "            await google.colab.kernel.invokeFunction('convertToInteractive',\n",
              "                                                     [key], {});\n",
              "          if (!dataTable) return;\n",
              "\n",
              "          const docLinkHtml = 'Like what you see? Visit the ' +\n",
              "            '<a target=\"_blank\" href=https://colab.research.google.com/notebooks/data_table.ipynb>data table notebook</a>'\n",
              "            + ' to learn more about interactive tables.';\n",
              "          element.innerHTML = '';\n",
              "          dataTable['output_type'] = 'display_data';\n",
              "          await google.colab.output.renderOutput(dataTable, element);\n",
              "          const docLink = document.createElement('div');\n",
              "          docLink.innerHTML = docLinkHtml;\n",
              "          element.appendChild(docLink);\n",
              "        }\n",
              "      </script>\n",
              "    </div>\n",
              "  </div>\n",
              "  "
            ],
            "text/plain": [
              "     class  humidity  outlook  temp  windy\n",
              "0        0         1        1     3      2\n",
              "1        0         1        1     3      1\n",
              "2        1         1        2     3      2\n",
              "3        1         1        3     1      2\n",
              "4        1         2        3     2      2\n",
              "..     ...       ...      ...   ...    ...\n",
              "219      1         2        3     1      2\n",
              "220      1         2        1     1      1\n",
              "221      1         1        2     1      1\n",
              "222      1         2        2     3      2\n",
              "223      0         1        3     1      1\n",
              "\n",
              "[224 rows x 5 columns]"
            ]
          },
          "metadata": {},
          "execution_count": 63
        }
      ]
    },
    {
      "cell_type": "code",
      "metadata": {
        "colab": {
          "base_uri": "https://localhost:8080/"
        },
        "id": "iVEujBs6PJZO",
        "outputId": "13d8f123-dd10-47df-bffd-8752bb393a29"
      },
      "source": [
        "dataset.isnull().sum()"
      ],
      "execution_count": 62,
      "outputs": [
        {
          "output_type": "execute_result",
          "data": {
            "text/plain": [
              "outlook     0\n",
              "temp        0\n",
              "humidity    0\n",
              "windy       0\n",
              "class       0\n",
              "dtype: int64"
            ]
          },
          "metadata": {},
          "execution_count": 62
        }
      ]
    },
    {
      "cell_type": "code",
      "metadata": {
        "colab": {
          "base_uri": "https://localhost:8080/"
        },
        "id": "r6S9wQB4Pcbf",
        "outputId": "66b26334-a72c-415c-9f6b-1016ecd212f9"
      },
      "source": [
        "dataset.index"
      ],
      "execution_count": 61,
      "outputs": [
        {
          "output_type": "execute_result",
          "data": {
            "text/plain": [
              "RangeIndex(start=0, stop=224, step=1)"
            ]
          },
          "metadata": {},
          "execution_count": 61
        }
      ]
    },
    {
      "cell_type": "code",
      "metadata": {
        "colab": {
          "base_uri": "https://localhost:8080/"
        },
        "id": "kHNglwbXPg3N",
        "outputId": "921f93e7-1637-42c3-92fe-d8a9b18f9030"
      },
      "source": [
        "dataset.memory_usage()"
      ],
      "execution_count": 66,
      "outputs": [
        {
          "output_type": "execute_result",
          "data": {
            "text/plain": [
              "Index        128\n",
              "outlook     1792\n",
              "temp        1792\n",
              "humidity    1792\n",
              "windy       1792\n",
              "class       1792\n",
              "dtype: int64"
            ]
          },
          "metadata": {},
          "execution_count": 66
        }
      ]
    },
    {
      "cell_type": "code",
      "metadata": {
        "colab": {
          "base_uri": "https://localhost:8080/"
        },
        "id": "HMtnbC5FQH2v",
        "outputId": "c10c1689-edb1-4ce2-f510-42f9f805c04d"
      },
      "source": [
        "dataset['humidity'].value_counts()"
      ],
      "execution_count": 65,
      "outputs": [
        {
          "output_type": "execute_result",
          "data": {
            "text/plain": [
              "1    112\n",
              "2    112\n",
              "Name: humidity, dtype: int64"
            ]
          },
          "metadata": {},
          "execution_count": 65
        }
      ]
    },
    {
      "cell_type": "code",
      "metadata": {
        "colab": {
          "base_uri": "https://localhost:8080/",
          "height": 206
        },
        "id": "DwEBjvKpS8lw",
        "outputId": "d8049766-8048-41d1-b599-afd5acb86ee5"
      },
      "source": [
        "dataset.corr()"
      ],
      "execution_count": 64,
      "outputs": [
        {
          "output_type": "execute_result",
          "data": {
            "text/html": [
              "\n",
              "  <div id=\"df-4a31ad78-92c3-4254-8688-aa00477bb1f1\">\n",
              "    <div class=\"colab-df-container\">\n",
              "      <div>\n",
              "<style scoped>\n",
              "    .dataframe tbody tr th:only-of-type {\n",
              "        vertical-align: middle;\n",
              "    }\n",
              "\n",
              "    .dataframe tbody tr th {\n",
              "        vertical-align: top;\n",
              "    }\n",
              "\n",
              "    .dataframe thead th {\n",
              "        text-align: right;\n",
              "    }\n",
              "</style>\n",
              "<table border=\"1\" class=\"dataframe\">\n",
              "  <thead>\n",
              "    <tr style=\"text-align: right;\">\n",
              "      <th></th>\n",
              "      <th>outlook</th>\n",
              "      <th>temp</th>\n",
              "      <th>humidity</th>\n",
              "      <th>windy</th>\n",
              "      <th>class</th>\n",
              "    </tr>\n",
              "  </thead>\n",
              "  <tbody>\n",
              "    <tr>\n",
              "      <th>outlook</th>\n",
              "      <td>1.000000e+00</td>\n",
              "      <td>-3.043798e-01</td>\n",
              "      <td>1.690309e-01</td>\n",
              "      <td>-4.740167e-18</td>\n",
              "      <td>0.176383</td>\n",
              "    </tr>\n",
              "    <tr>\n",
              "      <th>temp</th>\n",
              "      <td>-3.043798e-01</td>\n",
              "      <td>1.000000e+00</td>\n",
              "      <td>6.128554e-17</td>\n",
              "      <td>1.980295e-01</td>\n",
              "      <td>-0.127827</td>\n",
              "    </tr>\n",
              "    <tr>\n",
              "      <th>humidity</th>\n",
              "      <td>1.690309e-01</td>\n",
              "      <td>6.128554e-17</td>\n",
              "      <td>1.000000e+00</td>\n",
              "      <td>3.004629e-17</td>\n",
              "      <td>0.447214</td>\n",
              "    </tr>\n",
              "    <tr>\n",
              "      <th>windy</th>\n",
              "      <td>-4.740167e-18</td>\n",
              "      <td>1.980295e-01</td>\n",
              "      <td>3.004629e-17</td>\n",
              "      <td>1.000000e+00</td>\n",
              "      <td>0.258199</td>\n",
              "    </tr>\n",
              "    <tr>\n",
              "      <th>class</th>\n",
              "      <td>1.763834e-01</td>\n",
              "      <td>-1.278275e-01</td>\n",
              "      <td>4.472136e-01</td>\n",
              "      <td>2.581989e-01</td>\n",
              "      <td>1.000000</td>\n",
              "    </tr>\n",
              "  </tbody>\n",
              "</table>\n",
              "</div>\n",
              "      <button class=\"colab-df-convert\" onclick=\"convertToInteractive('df-4a31ad78-92c3-4254-8688-aa00477bb1f1')\"\n",
              "              title=\"Convert this dataframe to an interactive table.\"\n",
              "              style=\"display:none;\">\n",
              "        \n",
              "  <svg xmlns=\"http://www.w3.org/2000/svg\" height=\"24px\"viewBox=\"0 0 24 24\"\n",
              "       width=\"24px\">\n",
              "    <path d=\"M0 0h24v24H0V0z\" fill=\"none\"/>\n",
              "    <path d=\"M18.56 5.44l.94 2.06.94-2.06 2.06-.94-2.06-.94-.94-2.06-.94 2.06-2.06.94zm-11 1L8.5 8.5l.94-2.06 2.06-.94-2.06-.94L8.5 2.5l-.94 2.06-2.06.94zm10 10l.94 2.06.94-2.06 2.06-.94-2.06-.94-.94-2.06-.94 2.06-2.06.94z\"/><path d=\"M17.41 7.96l-1.37-1.37c-.4-.4-.92-.59-1.43-.59-.52 0-1.04.2-1.43.59L10.3 9.45l-7.72 7.72c-.78.78-.78 2.05 0 2.83L4 21.41c.39.39.9.59 1.41.59.51 0 1.02-.2 1.41-.59l7.78-7.78 2.81-2.81c.8-.78.8-2.07 0-2.86zM5.41 20L4 18.59l7.72-7.72 1.47 1.35L5.41 20z\"/>\n",
              "  </svg>\n",
              "      </button>\n",
              "      \n",
              "  <style>\n",
              "    .colab-df-container {\n",
              "      display:flex;\n",
              "      flex-wrap:wrap;\n",
              "      gap: 12px;\n",
              "    }\n",
              "\n",
              "    .colab-df-convert {\n",
              "      background-color: #E8F0FE;\n",
              "      border: none;\n",
              "      border-radius: 50%;\n",
              "      cursor: pointer;\n",
              "      display: none;\n",
              "      fill: #1967D2;\n",
              "      height: 32px;\n",
              "      padding: 0 0 0 0;\n",
              "      width: 32px;\n",
              "    }\n",
              "\n",
              "    .colab-df-convert:hover {\n",
              "      background-color: #E2EBFA;\n",
              "      box-shadow: 0px 1px 2px rgba(60, 64, 67, 0.3), 0px 1px 3px 1px rgba(60, 64, 67, 0.15);\n",
              "      fill: #174EA6;\n",
              "    }\n",
              "\n",
              "    [theme=dark] .colab-df-convert {\n",
              "      background-color: #3B4455;\n",
              "      fill: #D2E3FC;\n",
              "    }\n",
              "\n",
              "    [theme=dark] .colab-df-convert:hover {\n",
              "      background-color: #434B5C;\n",
              "      box-shadow: 0px 1px 3px 1px rgba(0, 0, 0, 0.15);\n",
              "      filter: drop-shadow(0px 1px 2px rgba(0, 0, 0, 0.3));\n",
              "      fill: #FFFFFF;\n",
              "    }\n",
              "  </style>\n",
              "\n",
              "      <script>\n",
              "        const buttonEl =\n",
              "          document.querySelector('#df-4a31ad78-92c3-4254-8688-aa00477bb1f1 button.colab-df-convert');\n",
              "        buttonEl.style.display =\n",
              "          google.colab.kernel.accessAllowed ? 'block' : 'none';\n",
              "\n",
              "        async function convertToInteractive(key) {\n",
              "          const element = document.querySelector('#df-4a31ad78-92c3-4254-8688-aa00477bb1f1');\n",
              "          const dataTable =\n",
              "            await google.colab.kernel.invokeFunction('convertToInteractive',\n",
              "                                                     [key], {});\n",
              "          if (!dataTable) return;\n",
              "\n",
              "          const docLinkHtml = 'Like what you see? Visit the ' +\n",
              "            '<a target=\"_blank\" href=https://colab.research.google.com/notebooks/data_table.ipynb>data table notebook</a>'\n",
              "            + ' to learn more about interactive tables.';\n",
              "          element.innerHTML = '';\n",
              "          dataTable['output_type'] = 'display_data';\n",
              "          await google.colab.output.renderOutput(dataTable, element);\n",
              "          const docLink = document.createElement('div');\n",
              "          docLink.innerHTML = docLinkHtml;\n",
              "          element.appendChild(docLink);\n",
              "        }\n",
              "      </script>\n",
              "    </div>\n",
              "  </div>\n",
              "  "
            ],
            "text/plain": [
              "               outlook          temp      humidity         windy     class\n",
              "outlook   1.000000e+00 -3.043798e-01  1.690309e-01 -4.740167e-18  0.176383\n",
              "temp     -3.043798e-01  1.000000e+00  6.128554e-17  1.980295e-01 -0.127827\n",
              "humidity  1.690309e-01  6.128554e-17  1.000000e+00  3.004629e-17  0.447214\n",
              "windy    -4.740167e-18  1.980295e-01  3.004629e-17  1.000000e+00  0.258199\n",
              "class     1.763834e-01 -1.278275e-01  4.472136e-01  2.581989e-01  1.000000"
            ]
          },
          "metadata": {},
          "execution_count": 64
        }
      ]
    },
    {
      "cell_type": "code",
      "metadata": {
        "colab": {
          "base_uri": "https://localhost:8080/"
        },
        "id": "uFTlB1zpUUF9",
        "outputId": "adb42aff-2721-43a8-c57e-b7275502bcb6"
      },
      "source": [
        "#Selecting a single column\n",
        "dataset['humidity']"
      ],
      "execution_count": 69,
      "outputs": [
        {
          "output_type": "execute_result",
          "data": {
            "text/plain": [
              "0      1\n",
              "1      1\n",
              "2      1\n",
              "3      1\n",
              "4      2\n",
              "      ..\n",
              "219    2\n",
              "220    2\n",
              "221    1\n",
              "222    2\n",
              "223    1\n",
              "Name: humidity, Length: 224, dtype: int64"
            ]
          },
          "metadata": {},
          "execution_count": 69
        }
      ]
    },
    {
      "cell_type": "code",
      "metadata": {
        "colab": {
          "base_uri": "https://localhost:8080/",
          "height": 424
        },
        "id": "cODmOuArVwix",
        "outputId": "9ea56f5f-aee6-4756-9981-a534c9671151"
      },
      "source": [
        "#Slicing rows\n",
        "a=dataset[1:100]\n",
        "a"
      ],
      "execution_count": 68,
      "outputs": [
        {
          "output_type": "execute_result",
          "data": {
            "text/html": [
              "\n",
              "  <div id=\"df-25d07842-1fe1-4463-a830-b939b98b9cf3\">\n",
              "    <div class=\"colab-df-container\">\n",
              "      <div>\n",
              "<style scoped>\n",
              "    .dataframe tbody tr th:only-of-type {\n",
              "        vertical-align: middle;\n",
              "    }\n",
              "\n",
              "    .dataframe tbody tr th {\n",
              "        vertical-align: top;\n",
              "    }\n",
              "\n",
              "    .dataframe thead th {\n",
              "        text-align: right;\n",
              "    }\n",
              "</style>\n",
              "<table border=\"1\" class=\"dataframe\">\n",
              "  <thead>\n",
              "    <tr style=\"text-align: right;\">\n",
              "      <th></th>\n",
              "      <th>outlook</th>\n",
              "      <th>temp</th>\n",
              "      <th>humidity</th>\n",
              "      <th>windy</th>\n",
              "      <th>class</th>\n",
              "    </tr>\n",
              "  </thead>\n",
              "  <tbody>\n",
              "    <tr>\n",
              "      <th>1</th>\n",
              "      <td>1</td>\n",
              "      <td>3</td>\n",
              "      <td>1</td>\n",
              "      <td>1</td>\n",
              "      <td>0</td>\n",
              "    </tr>\n",
              "    <tr>\n",
              "      <th>2</th>\n",
              "      <td>2</td>\n",
              "      <td>3</td>\n",
              "      <td>1</td>\n",
              "      <td>2</td>\n",
              "      <td>1</td>\n",
              "    </tr>\n",
              "    <tr>\n",
              "      <th>3</th>\n",
              "      <td>3</td>\n",
              "      <td>1</td>\n",
              "      <td>1</td>\n",
              "      <td>2</td>\n",
              "      <td>1</td>\n",
              "    </tr>\n",
              "    <tr>\n",
              "      <th>4</th>\n",
              "      <td>3</td>\n",
              "      <td>2</td>\n",
              "      <td>2</td>\n",
              "      <td>2</td>\n",
              "      <td>1</td>\n",
              "    </tr>\n",
              "    <tr>\n",
              "      <th>5</th>\n",
              "      <td>3</td>\n",
              "      <td>2</td>\n",
              "      <td>2</td>\n",
              "      <td>1</td>\n",
              "      <td>0</td>\n",
              "    </tr>\n",
              "    <tr>\n",
              "      <th>...</th>\n",
              "      <td>...</td>\n",
              "      <td>...</td>\n",
              "      <td>...</td>\n",
              "      <td>...</td>\n",
              "      <td>...</td>\n",
              "    </tr>\n",
              "    <tr>\n",
              "      <th>95</th>\n",
              "      <td>2</td>\n",
              "      <td>1</td>\n",
              "      <td>1</td>\n",
              "      <td>1</td>\n",
              "      <td>1</td>\n",
              "    </tr>\n",
              "    <tr>\n",
              "      <th>96</th>\n",
              "      <td>2</td>\n",
              "      <td>3</td>\n",
              "      <td>2</td>\n",
              "      <td>2</td>\n",
              "      <td>1</td>\n",
              "    </tr>\n",
              "    <tr>\n",
              "      <th>97</th>\n",
              "      <td>3</td>\n",
              "      <td>1</td>\n",
              "      <td>1</td>\n",
              "      <td>1</td>\n",
              "      <td>0</td>\n",
              "    </tr>\n",
              "    <tr>\n",
              "      <th>98</th>\n",
              "      <td>1</td>\n",
              "      <td>3</td>\n",
              "      <td>1</td>\n",
              "      <td>2</td>\n",
              "      <td>0</td>\n",
              "    </tr>\n",
              "    <tr>\n",
              "      <th>99</th>\n",
              "      <td>1</td>\n",
              "      <td>3</td>\n",
              "      <td>1</td>\n",
              "      <td>1</td>\n",
              "      <td>0</td>\n",
              "    </tr>\n",
              "  </tbody>\n",
              "</table>\n",
              "<p>99 rows × 5 columns</p>\n",
              "</div>\n",
              "      <button class=\"colab-df-convert\" onclick=\"convertToInteractive('df-25d07842-1fe1-4463-a830-b939b98b9cf3')\"\n",
              "              title=\"Convert this dataframe to an interactive table.\"\n",
              "              style=\"display:none;\">\n",
              "        \n",
              "  <svg xmlns=\"http://www.w3.org/2000/svg\" height=\"24px\"viewBox=\"0 0 24 24\"\n",
              "       width=\"24px\">\n",
              "    <path d=\"M0 0h24v24H0V0z\" fill=\"none\"/>\n",
              "    <path d=\"M18.56 5.44l.94 2.06.94-2.06 2.06-.94-2.06-.94-.94-2.06-.94 2.06-2.06.94zm-11 1L8.5 8.5l.94-2.06 2.06-.94-2.06-.94L8.5 2.5l-.94 2.06-2.06.94zm10 10l.94 2.06.94-2.06 2.06-.94-2.06-.94-.94-2.06-.94 2.06-2.06.94z\"/><path d=\"M17.41 7.96l-1.37-1.37c-.4-.4-.92-.59-1.43-.59-.52 0-1.04.2-1.43.59L10.3 9.45l-7.72 7.72c-.78.78-.78 2.05 0 2.83L4 21.41c.39.39.9.59 1.41.59.51 0 1.02-.2 1.41-.59l7.78-7.78 2.81-2.81c.8-.78.8-2.07 0-2.86zM5.41 20L4 18.59l7.72-7.72 1.47 1.35L5.41 20z\"/>\n",
              "  </svg>\n",
              "      </button>\n",
              "      \n",
              "  <style>\n",
              "    .colab-df-container {\n",
              "      display:flex;\n",
              "      flex-wrap:wrap;\n",
              "      gap: 12px;\n",
              "    }\n",
              "\n",
              "    .colab-df-convert {\n",
              "      background-color: #E8F0FE;\n",
              "      border: none;\n",
              "      border-radius: 50%;\n",
              "      cursor: pointer;\n",
              "      display: none;\n",
              "      fill: #1967D2;\n",
              "      height: 32px;\n",
              "      padding: 0 0 0 0;\n",
              "      width: 32px;\n",
              "    }\n",
              "\n",
              "    .colab-df-convert:hover {\n",
              "      background-color: #E2EBFA;\n",
              "      box-shadow: 0px 1px 2px rgba(60, 64, 67, 0.3), 0px 1px 3px 1px rgba(60, 64, 67, 0.15);\n",
              "      fill: #174EA6;\n",
              "    }\n",
              "\n",
              "    [theme=dark] .colab-df-convert {\n",
              "      background-color: #3B4455;\n",
              "      fill: #D2E3FC;\n",
              "    }\n",
              "\n",
              "    [theme=dark] .colab-df-convert:hover {\n",
              "      background-color: #434B5C;\n",
              "      box-shadow: 0px 1px 3px 1px rgba(0, 0, 0, 0.15);\n",
              "      filter: drop-shadow(0px 1px 2px rgba(0, 0, 0, 0.3));\n",
              "      fill: #FFFFFF;\n",
              "    }\n",
              "  </style>\n",
              "\n",
              "      <script>\n",
              "        const buttonEl =\n",
              "          document.querySelector('#df-25d07842-1fe1-4463-a830-b939b98b9cf3 button.colab-df-convert');\n",
              "        buttonEl.style.display =\n",
              "          google.colab.kernel.accessAllowed ? 'block' : 'none';\n",
              "\n",
              "        async function convertToInteractive(key) {\n",
              "          const element = document.querySelector('#df-25d07842-1fe1-4463-a830-b939b98b9cf3');\n",
              "          const dataTable =\n",
              "            await google.colab.kernel.invokeFunction('convertToInteractive',\n",
              "                                                     [key], {});\n",
              "          if (!dataTable) return;\n",
              "\n",
              "          const docLinkHtml = 'Like what you see? Visit the ' +\n",
              "            '<a target=\"_blank\" href=https://colab.research.google.com/notebooks/data_table.ipynb>data table notebook</a>'\n",
              "            + ' to learn more about interactive tables.';\n",
              "          element.innerHTML = '';\n",
              "          dataTable['output_type'] = 'display_data';\n",
              "          await google.colab.output.renderOutput(dataTable, element);\n",
              "          const docLink = document.createElement('div');\n",
              "          docLink.innerHTML = docLinkHtml;\n",
              "          element.appendChild(docLink);\n",
              "        }\n",
              "      </script>\n",
              "    </div>\n",
              "  </div>\n",
              "  "
            ],
            "text/plain": [
              "    outlook  temp  humidity  windy  class\n",
              "1         1     3         1      1      0\n",
              "2         2     3         1      2      1\n",
              "3         3     1         1      2      1\n",
              "4         3     2         2      2      1\n",
              "5         3     2         2      1      0\n",
              "..      ...   ...       ...    ...    ...\n",
              "95        2     1         1      1      1\n",
              "96        2     3         2      2      1\n",
              "97        3     1         1      1      0\n",
              "98        1     3         1      2      0\n",
              "99        1     3         1      1      0\n",
              "\n",
              "[99 rows x 5 columns]"
            ]
          },
          "metadata": {},
          "execution_count": 68
        }
      ]
    },
    {
      "cell_type": "code",
      "metadata": {
        "colab": {
          "base_uri": "https://localhost:8080/"
        },
        "id": "Otp1oeG-WI_9",
        "outputId": "7686108d-5ade-4e69-be8b-c988e6c210e5"
      },
      "source": [
        "#selecting column\n",
        "\n",
        "x= dataset.iloc[:, [2, 3]].values\n",
        "print(x)"
      ],
      "execution_count": 67,
      "outputs": [
        {
          "output_type": "stream",
          "name": "stdout",
          "text": [
            "[[1 2]\n",
            " [1 1]\n",
            " [1 2]\n",
            " [1 2]\n",
            " [2 2]\n",
            " [2 1]\n",
            " [2 1]\n",
            " [1 2]\n",
            " [2 2]\n",
            " [2 2]\n",
            " [2 1]\n",
            " [1 1]\n",
            " [2 2]\n",
            " [1 1]\n",
            " [1 2]\n",
            " [1 1]\n",
            " [1 2]\n",
            " [1 2]\n",
            " [2 2]\n",
            " [2 1]\n",
            " [2 1]\n",
            " [1 2]\n",
            " [2 2]\n",
            " [2 2]\n",
            " [2 1]\n",
            " [1 1]\n",
            " [2 2]\n",
            " [1 1]\n",
            " [1 2]\n",
            " [1 1]\n",
            " [1 2]\n",
            " [1 2]\n",
            " [2 2]\n",
            " [2 1]\n",
            " [2 1]\n",
            " [1 2]\n",
            " [2 2]\n",
            " [2 2]\n",
            " [2 1]\n",
            " [1 1]\n",
            " [2 2]\n",
            " [1 1]\n",
            " [1 2]\n",
            " [1 1]\n",
            " [1 2]\n",
            " [1 2]\n",
            " [2 2]\n",
            " [2 1]\n",
            " [2 1]\n",
            " [1 2]\n",
            " [2 2]\n",
            " [2 2]\n",
            " [2 1]\n",
            " [1 1]\n",
            " [2 2]\n",
            " [1 1]\n",
            " [1 2]\n",
            " [1 1]\n",
            " [1 2]\n",
            " [1 2]\n",
            " [2 2]\n",
            " [2 1]\n",
            " [2 1]\n",
            " [1 2]\n",
            " [2 2]\n",
            " [2 2]\n",
            " [2 1]\n",
            " [1 1]\n",
            " [2 2]\n",
            " [1 1]\n",
            " [1 2]\n",
            " [1 1]\n",
            " [1 2]\n",
            " [1 2]\n",
            " [2 2]\n",
            " [2 1]\n",
            " [2 1]\n",
            " [1 2]\n",
            " [2 2]\n",
            " [2 2]\n",
            " [2 1]\n",
            " [1 1]\n",
            " [2 2]\n",
            " [1 1]\n",
            " [1 2]\n",
            " [1 1]\n",
            " [1 2]\n",
            " [1 2]\n",
            " [2 2]\n",
            " [2 1]\n",
            " [2 1]\n",
            " [1 2]\n",
            " [2 2]\n",
            " [2 2]\n",
            " [2 1]\n",
            " [1 1]\n",
            " [2 2]\n",
            " [1 1]\n",
            " [1 2]\n",
            " [1 1]\n",
            " [1 2]\n",
            " [1 2]\n",
            " [2 2]\n",
            " [2 1]\n",
            " [2 1]\n",
            " [1 2]\n",
            " [2 2]\n",
            " [2 2]\n",
            " [2 1]\n",
            " [1 1]\n",
            " [2 2]\n",
            " [1 1]\n",
            " [1 2]\n",
            " [1 1]\n",
            " [1 2]\n",
            " [1 2]\n",
            " [2 2]\n",
            " [2 1]\n",
            " [2 1]\n",
            " [1 2]\n",
            " [2 2]\n",
            " [2 2]\n",
            " [2 1]\n",
            " [1 1]\n",
            " [2 2]\n",
            " [1 1]\n",
            " [1 2]\n",
            " [1 1]\n",
            " [1 2]\n",
            " [1 2]\n",
            " [2 2]\n",
            " [2 1]\n",
            " [2 1]\n",
            " [1 2]\n",
            " [2 2]\n",
            " [2 2]\n",
            " [2 1]\n",
            " [1 1]\n",
            " [2 2]\n",
            " [1 1]\n",
            " [1 2]\n",
            " [1 1]\n",
            " [1 2]\n",
            " [1 2]\n",
            " [2 2]\n",
            " [2 1]\n",
            " [2 1]\n",
            " [1 2]\n",
            " [2 2]\n",
            " [2 2]\n",
            " [2 1]\n",
            " [1 1]\n",
            " [2 2]\n",
            " [1 1]\n",
            " [1 2]\n",
            " [1 1]\n",
            " [1 2]\n",
            " [1 2]\n",
            " [2 2]\n",
            " [2 1]\n",
            " [2 1]\n",
            " [1 2]\n",
            " [2 2]\n",
            " [2 2]\n",
            " [2 1]\n",
            " [1 1]\n",
            " [2 2]\n",
            " [1 1]\n",
            " [1 2]\n",
            " [1 1]\n",
            " [1 2]\n",
            " [1 2]\n",
            " [2 2]\n",
            " [2 1]\n",
            " [2 1]\n",
            " [1 2]\n",
            " [2 2]\n",
            " [2 2]\n",
            " [2 1]\n",
            " [1 1]\n",
            " [2 2]\n",
            " [1 1]\n",
            " [1 2]\n",
            " [1 1]\n",
            " [1 2]\n",
            " [1 2]\n",
            " [2 2]\n",
            " [2 1]\n",
            " [2 1]\n",
            " [1 2]\n",
            " [2 2]\n",
            " [2 2]\n",
            " [2 1]\n",
            " [1 1]\n",
            " [2 2]\n",
            " [1 1]\n",
            " [1 2]\n",
            " [1 1]\n",
            " [1 2]\n",
            " [1 2]\n",
            " [2 2]\n",
            " [2 1]\n",
            " [2 1]\n",
            " [1 2]\n",
            " [2 2]\n",
            " [2 2]\n",
            " [2 1]\n",
            " [1 1]\n",
            " [2 2]\n",
            " [1 1]\n",
            " [1 2]\n",
            " [1 1]\n",
            " [1 2]\n",
            " [1 2]\n",
            " [2 2]\n",
            " [2 1]\n",
            " [2 1]\n",
            " [1 2]\n",
            " [2 2]\n",
            " [2 2]\n",
            " [2 1]\n",
            " [1 1]\n",
            " [2 2]\n",
            " [1 1]]\n"
          ]
        }
      ]
    },
    {
      "cell_type": "markdown",
      "metadata": {
        "id": "4Hx_GNH9W2U0"
      },
      "source": [
        "**DATAFRAME**"
      ]
    },
    {
      "cell_type": "code",
      "metadata": {
        "id": "KUz4orLTW1D7",
        "colab": {
          "base_uri": "https://localhost:8080/"
        },
        "outputId": "1830648b-505b-473e-a7a0-5020dd67b629"
      },
      "source": [
        "import pandas as pd\n",
        "dictionary3 = { 'salary' : [45000,40000,35000,30000,42000,37000,43000,38000,41000,44000,90000,80000,70000,60000,95000,85000,75000,65000,84000,92000,190000,180000,170000,160000,195000,185000,175000,165000,184000,192000],\n",
        "'car_type' : [0,0,0,0,0,0,0,0,0,0,1,1,1,1,1,1,1,1,1,1,2,2,2,2,2,2,2,2,2,2]\n",
        " }\n",
        "table3 = pd.DataFrame (dictionary3)\n",
        "print(table3)"
      ],
      "execution_count": 71,
      "outputs": [
        {
          "output_type": "stream",
          "name": "stdout",
          "text": [
            "    salary  car_type\n",
            "0    45000         0\n",
            "1    40000         0\n",
            "2    35000         0\n",
            "3    30000         0\n",
            "4    42000         0\n",
            "5    37000         0\n",
            "6    43000         0\n",
            "7    38000         0\n",
            "8    41000         0\n",
            "9    44000         0\n",
            "10   90000         1\n",
            "11   80000         1\n",
            "12   70000         1\n",
            "13   60000         1\n",
            "14   95000         1\n",
            "15   85000         1\n",
            "16   75000         1\n",
            "17   65000         1\n",
            "18   84000         1\n",
            "19   92000         1\n",
            "20  190000         2\n",
            "21  180000         2\n",
            "22  170000         2\n",
            "23  160000         2\n",
            "24  195000         2\n",
            "25  185000         2\n",
            "26  175000         2\n",
            "27  165000         2\n",
            "28  184000         2\n",
            "29  192000         2\n"
          ]
        }
      ]
    },
    {
      "cell_type": "code",
      "metadata": {
        "id": "VOUixJu2IfbP"
      },
      "source": [
        "import pandas as pd\n",
        "import numpy as np\n",
        "import matplotlib.pyplot as plt\n",
        "\n",
        "W1 = 6\n",
        "W2 = 2\n",
        "W3 = 2\n",
        "X1 = 1\n",
        "X2 =  1\n",
        "X3 =  1\n",
        "B= 3\n"
      ],
      "execution_count": 70,
      "outputs": []
    },
    {
      "cell_type": "code",
      "metadata": {
        "colab": {
          "base_uri": "https://localhost:8080/"
        },
        "id": "MdQMw2qCram8",
        "outputId": "9198babb-326f-4056-e9f0-40db7de7b4f3"
      },
      "source": [
        "z= ((W1*X1) + (W2*X2) + (W3*X3)) + B\n",
        "print (z)"
      ],
      "execution_count": 72,
      "outputs": [
        {
          "output_type": "stream",
          "name": "stdout",
          "text": [
            "13\n"
          ]
        }
      ]
    },
    {
      "cell_type": "code",
      "metadata": {
        "colab": {
          "base_uri": "https://localhost:8080/"
        },
        "id": "twuIPXsKrzgS",
        "outputId": "767d817a-9257-41ee-919b-bc27e3118f21"
      },
      "source": [
        "import math\n",
        "sig = 1 / (1+math.exp(-z))\n",
        "print(sig)"
      ],
      "execution_count": 73,
      "outputs": [
        {
          "output_type": "stream",
          "name": "stdout",
          "text": [
            "0.999997739675702\n"
          ]
        }
      ]
    },
    {
      "cell_type": "code",
      "metadata": {
        "colab": {
          "base_uri": "https://localhost:8080/"
        },
        "id": "C2mRDTyZsod3",
        "outputId": "4f4ba674-9dd8-40cb-ff58-cd759a6fe53d"
      },
      "source": [
        "import math\n",
        "z=13\n",
        "#hyper = (1 — math.exp(-2z)) / (1 + math.exp(-2z))\n",
        "hyper = (1-math.exp(-26)) / (1+math.exp(-26))\n",
        "print(hyper)\n"
      ],
      "execution_count": 74,
      "outputs": [
        {
          "output_type": "stream",
          "name": "stdout",
          "text": [
            "0.9999999999897818\n"
          ]
        }
      ]
    },
    {
      "cell_type": "code",
      "metadata": {
        "id": "93Nz5dONuEj7"
      },
      "source": [
        ""
      ],
      "execution_count": 74,
      "outputs": []
    }
  ]
}