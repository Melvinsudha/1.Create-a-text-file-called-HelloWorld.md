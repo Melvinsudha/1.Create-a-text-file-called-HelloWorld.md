{
  "nbformat": 4,
  "nbformat_minor": 0,
  "metadata": {
    "colab": {
      "name": "3. ML - Apriori Algorithm ",
      "provenance": [],
      "collapsed_sections": [],
      "authorship_tag": "ABX9TyOfvU3T9+JDVwB11CejnYOe",
      "include_colab_link": true
    },
    "kernelspec": {
      "name": "python3",
      "display_name": "Python 3"
    }
  },
  "cells": [
    {
      "cell_type": "markdown",
      "metadata": {
        "id": "view-in-github",
        "colab_type": "text"
      },
      "source": [
        "<a href=\"https://colab.research.google.com/github/Melvinsudha/1.Create-a-text-file-called-HelloWorld.md/blob/main/3_ML_Apriori_Algorithm.ipynb\" target=\"_parent\"><img src=\"https://colab.research.google.com/assets/colab-badge.svg\" alt=\"Open In Colab\"/></a>"
      ]
    },
    {
      "cell_type": "markdown",
      "metadata": {
        "id": "7XdP_pOi50FK"
      },
      "source": [
        "**Apriori Algorithm - Association Mining rules**"
      ]
    },
    {
      "cell_type": "code",
      "metadata": {
        "id": "dDG0pw_X3RTy",
        "colab": {
          "base_uri": "https://localhost:8080/"
        },
        "outputId": "c5bd995c-5222-427c-9452-b1f3745d572c"
      },
      "source": [
        "pip install apyori #preferred installer program"
      ],
      "execution_count": null,
      "outputs": [
        {
          "output_type": "stream",
          "name": "stdout",
          "text": [
            "Requirement already satisfied: apyori in /usr/local/lib/python3.7/dist-packages (1.1.2)\n"
          ]
        }
      ]
    },
    {
      "cell_type": "code",
      "metadata": {
        "id": "TKacqNODo3Y5"
      },
      "source": [
        "#Step 1: Import the libraries\n",
        "#import the lib\n",
        "import numpy as np\n",
        "import pandas as pd\n",
        "from mlxtend.frequent_patterns import apriori \n",
        "from mlxtend.frequent_patterns import association_rules \n",
        "from apyori import apriori"
      ],
      "execution_count": null,
      "outputs": []
    },
    {
      "cell_type": "code",
      "metadata": {
        "id": "TrUHPDRMpqv3"
      },
      "source": [
        "#Step 2: Load the dataset\n",
        "store_data=pd.read_csv('food.csv')"
      ],
      "execution_count": null,
      "outputs": []
    },
    {
      "cell_type": "code",
      "metadata": {
        "id": "wv1a6XLap2l9",
        "colab": {
          "base_uri": "https://localhost:8080/",
          "height": 708
        },
        "outputId": "88c58e73-f44d-4388-b63e-5446ec1b1d92"
      },
      "source": [
        "#Check the data\n",
        "store_data"
      ],
      "execution_count": null,
      "outputs": [
        {
          "output_type": "execute_result",
          "data": {
            "text/html": [
              "<div>\n",
              "<style scoped>\n",
              "    .dataframe tbody tr th:only-of-type {\n",
              "        vertical-align: middle;\n",
              "    }\n",
              "\n",
              "    .dataframe tbody tr th {\n",
              "        vertical-align: top;\n",
              "    }\n",
              "\n",
              "    .dataframe thead th {\n",
              "        text-align: right;\n",
              "    }\n",
              "</style>\n",
              "<table border=\"1\" class=\"dataframe\">\n",
              "  <thead>\n",
              "    <tr style=\"text-align: right;\">\n",
              "      <th></th>\n",
              "      <th>wine</th>\n",
              "      <th>chips</th>\n",
              "      <th>bread</th>\n",
              "      <th>butter</th>\n",
              "      <th>milk</th>\n",
              "      <th>apple</th>\n",
              "    </tr>\n",
              "  </thead>\n",
              "  <tbody>\n",
              "    <tr>\n",
              "      <th>0</th>\n",
              "      <td>wine</td>\n",
              "      <td>NaN</td>\n",
              "      <td>bread</td>\n",
              "      <td>butter</td>\n",
              "      <td>milk</td>\n",
              "      <td>NaN</td>\n",
              "    </tr>\n",
              "    <tr>\n",
              "      <th>1</th>\n",
              "      <td>NaN</td>\n",
              "      <td>NaN</td>\n",
              "      <td>bread</td>\n",
              "      <td>butter</td>\n",
              "      <td>milk</td>\n",
              "      <td>NaN</td>\n",
              "    </tr>\n",
              "    <tr>\n",
              "      <th>2</th>\n",
              "      <td>NaN</td>\n",
              "      <td>chips</td>\n",
              "      <td>NaN</td>\n",
              "      <td>NaN</td>\n",
              "      <td>NaN</td>\n",
              "      <td>apple</td>\n",
              "    </tr>\n",
              "    <tr>\n",
              "      <th>3</th>\n",
              "      <td>wine</td>\n",
              "      <td>chips</td>\n",
              "      <td>bread</td>\n",
              "      <td>butter</td>\n",
              "      <td>milk</td>\n",
              "      <td>apple</td>\n",
              "    </tr>\n",
              "    <tr>\n",
              "      <th>4</th>\n",
              "      <td>wine</td>\n",
              "      <td>chips</td>\n",
              "      <td>NaN</td>\n",
              "      <td>NaN</td>\n",
              "      <td>milk</td>\n",
              "      <td>NaN</td>\n",
              "    </tr>\n",
              "    <tr>\n",
              "      <th>5</th>\n",
              "      <td>wine</td>\n",
              "      <td>chips</td>\n",
              "      <td>bread</td>\n",
              "      <td>butter</td>\n",
              "      <td>NaN</td>\n",
              "      <td>apple</td>\n",
              "    </tr>\n",
              "    <tr>\n",
              "      <th>6</th>\n",
              "      <td>wine</td>\n",
              "      <td>chips</td>\n",
              "      <td>NaN</td>\n",
              "      <td>NaN</td>\n",
              "      <td>milk</td>\n",
              "      <td>NaN</td>\n",
              "    </tr>\n",
              "    <tr>\n",
              "      <th>7</th>\n",
              "      <td>wine</td>\n",
              "      <td>NaN</td>\n",
              "      <td>bread</td>\n",
              "      <td>NaN</td>\n",
              "      <td>NaN</td>\n",
              "      <td>apple</td>\n",
              "    </tr>\n",
              "    <tr>\n",
              "      <th>8</th>\n",
              "      <td>wine</td>\n",
              "      <td>NaN</td>\n",
              "      <td>bread</td>\n",
              "      <td>butter</td>\n",
              "      <td>milk</td>\n",
              "      <td>NaN</td>\n",
              "    </tr>\n",
              "    <tr>\n",
              "      <th>9</th>\n",
              "      <td>NaN</td>\n",
              "      <td>chips</td>\n",
              "      <td>bread</td>\n",
              "      <td>butter</td>\n",
              "      <td>NaN</td>\n",
              "      <td>apple</td>\n",
              "    </tr>\n",
              "    <tr>\n",
              "      <th>10</th>\n",
              "      <td>wine</td>\n",
              "      <td>NaN</td>\n",
              "      <td>NaN</td>\n",
              "      <td>butter</td>\n",
              "      <td>milk</td>\n",
              "      <td>apple</td>\n",
              "    </tr>\n",
              "    <tr>\n",
              "      <th>11</th>\n",
              "      <td>wine</td>\n",
              "      <td>chips</td>\n",
              "      <td>bread</td>\n",
              "      <td>butter</td>\n",
              "      <td>milk</td>\n",
              "      <td>NaN</td>\n",
              "    </tr>\n",
              "    <tr>\n",
              "      <th>12</th>\n",
              "      <td>wine</td>\n",
              "      <td>NaN</td>\n",
              "      <td>bread</td>\n",
              "      <td>NaN</td>\n",
              "      <td>milk</td>\n",
              "      <td>apple</td>\n",
              "    </tr>\n",
              "    <tr>\n",
              "      <th>13</th>\n",
              "      <td>wine</td>\n",
              "      <td>NaN</td>\n",
              "      <td>bread</td>\n",
              "      <td>butter</td>\n",
              "      <td>milk</td>\n",
              "      <td>apple</td>\n",
              "    </tr>\n",
              "    <tr>\n",
              "      <th>14</th>\n",
              "      <td>wine</td>\n",
              "      <td>chips</td>\n",
              "      <td>bread</td>\n",
              "      <td>butter</td>\n",
              "      <td>milk</td>\n",
              "      <td>apple</td>\n",
              "    </tr>\n",
              "    <tr>\n",
              "      <th>15</th>\n",
              "      <td>NaN</td>\n",
              "      <td>chips</td>\n",
              "      <td>bread</td>\n",
              "      <td>butter</td>\n",
              "      <td>milk</td>\n",
              "      <td>apple</td>\n",
              "    </tr>\n",
              "    <tr>\n",
              "      <th>16</th>\n",
              "      <td>NaN</td>\n",
              "      <td>chips</td>\n",
              "      <td>NaN</td>\n",
              "      <td>butter</td>\n",
              "      <td>milk</td>\n",
              "      <td>apple</td>\n",
              "    </tr>\n",
              "    <tr>\n",
              "      <th>17</th>\n",
              "      <td>wine</td>\n",
              "      <td>chips</td>\n",
              "      <td>bread</td>\n",
              "      <td>butter</td>\n",
              "      <td>milk</td>\n",
              "      <td>apple</td>\n",
              "    </tr>\n",
              "    <tr>\n",
              "      <th>18</th>\n",
              "      <td>wine</td>\n",
              "      <td>NaN</td>\n",
              "      <td>bread</td>\n",
              "      <td>butter</td>\n",
              "      <td>milk</td>\n",
              "      <td>apple</td>\n",
              "    </tr>\n",
              "    <tr>\n",
              "      <th>19</th>\n",
              "      <td>wine</td>\n",
              "      <td>chips</td>\n",
              "      <td>bread</td>\n",
              "      <td>NaN</td>\n",
              "      <td>milk</td>\n",
              "      <td>apple</td>\n",
              "    </tr>\n",
              "    <tr>\n",
              "      <th>20</th>\n",
              "      <td>NaN</td>\n",
              "      <td>chips</td>\n",
              "      <td>NaN</td>\n",
              "      <td>NaN</td>\n",
              "      <td>NaN</td>\n",
              "      <td>NaN</td>\n",
              "    </tr>\n",
              "  </tbody>\n",
              "</table>\n",
              "</div>"
            ],
            "text/plain": [
              "    wine  chips  bread  butter  milk  apple\n",
              "0   wine    NaN  bread  butter  milk    NaN\n",
              "1    NaN    NaN  bread  butter  milk    NaN\n",
              "2    NaN  chips    NaN     NaN   NaN  apple\n",
              "3   wine  chips  bread  butter  milk  apple\n",
              "4   wine  chips    NaN     NaN  milk    NaN\n",
              "5   wine  chips  bread  butter   NaN  apple\n",
              "6   wine  chips    NaN     NaN  milk    NaN\n",
              "7   wine    NaN  bread     NaN   NaN  apple\n",
              "8   wine    NaN  bread  butter  milk    NaN\n",
              "9    NaN  chips  bread  butter   NaN  apple\n",
              "10  wine    NaN    NaN  butter  milk  apple\n",
              "11  wine  chips  bread  butter  milk    NaN\n",
              "12  wine    NaN  bread     NaN  milk  apple\n",
              "13  wine    NaN  bread  butter  milk  apple\n",
              "14  wine  chips  bread  butter  milk  apple\n",
              "15   NaN  chips  bread  butter  milk  apple\n",
              "16   NaN  chips    NaN  butter  milk  apple\n",
              "17  wine  chips  bread  butter  milk  apple\n",
              "18  wine    NaN  bread  butter  milk  apple\n",
              "19  wine  chips  bread     NaN  milk  apple\n",
              "20   NaN  chips    NaN     NaN   NaN    NaN"
            ]
          },
          "metadata": {},
          "execution_count": 7
        }
      ]
    },
    {
      "cell_type": "code",
      "metadata": {
        "id": "9wP1g18JB7sE",
        "colab": {
          "base_uri": "https://localhost:8080/",
          "height": 206
        },
        "outputId": "7cfa676a-c623-4a9b-e5a4-af92b2560262"
      },
      "source": [
        "store_data.head()"
      ],
      "execution_count": null,
      "outputs": [
        {
          "output_type": "execute_result",
          "data": {
            "text/html": [
              "<div>\n",
              "<style scoped>\n",
              "    .dataframe tbody tr th:only-of-type {\n",
              "        vertical-align: middle;\n",
              "    }\n",
              "\n",
              "    .dataframe tbody tr th {\n",
              "        vertical-align: top;\n",
              "    }\n",
              "\n",
              "    .dataframe thead th {\n",
              "        text-align: right;\n",
              "    }\n",
              "</style>\n",
              "<table border=\"1\" class=\"dataframe\">\n",
              "  <thead>\n",
              "    <tr style=\"text-align: right;\">\n",
              "      <th></th>\n",
              "      <th>wine</th>\n",
              "      <th>chips</th>\n",
              "      <th>bread</th>\n",
              "      <th>butter</th>\n",
              "      <th>milk</th>\n",
              "      <th>apple</th>\n",
              "    </tr>\n",
              "  </thead>\n",
              "  <tbody>\n",
              "    <tr>\n",
              "      <th>0</th>\n",
              "      <td>wine</td>\n",
              "      <td>NaN</td>\n",
              "      <td>bread</td>\n",
              "      <td>butter</td>\n",
              "      <td>milk</td>\n",
              "      <td>NaN</td>\n",
              "    </tr>\n",
              "    <tr>\n",
              "      <th>1</th>\n",
              "      <td>NaN</td>\n",
              "      <td>NaN</td>\n",
              "      <td>bread</td>\n",
              "      <td>butter</td>\n",
              "      <td>milk</td>\n",
              "      <td>NaN</td>\n",
              "    </tr>\n",
              "    <tr>\n",
              "      <th>2</th>\n",
              "      <td>NaN</td>\n",
              "      <td>chips</td>\n",
              "      <td>NaN</td>\n",
              "      <td>NaN</td>\n",
              "      <td>NaN</td>\n",
              "      <td>apple</td>\n",
              "    </tr>\n",
              "    <tr>\n",
              "      <th>3</th>\n",
              "      <td>wine</td>\n",
              "      <td>chips</td>\n",
              "      <td>bread</td>\n",
              "      <td>butter</td>\n",
              "      <td>milk</td>\n",
              "      <td>apple</td>\n",
              "    </tr>\n",
              "    <tr>\n",
              "      <th>4</th>\n",
              "      <td>wine</td>\n",
              "      <td>chips</td>\n",
              "      <td>NaN</td>\n",
              "      <td>NaN</td>\n",
              "      <td>milk</td>\n",
              "      <td>NaN</td>\n",
              "    </tr>\n",
              "  </tbody>\n",
              "</table>\n",
              "</div>"
            ],
            "text/plain": [
              "   wine  chips  bread  butter  milk  apple\n",
              "0  wine    NaN  bread  butter  milk    NaN\n",
              "1   NaN    NaN  bread  butter  milk    NaN\n",
              "2   NaN  chips    NaN     NaN   NaN  apple\n",
              "3  wine  chips  bread  butter  milk  apple\n",
              "4  wine  chips    NaN     NaN  milk    NaN"
            ]
          },
          "metadata": {},
          "execution_count": 8
        }
      ]
    },
    {
      "cell_type": "code",
      "metadata": {
        "id": "Q6AJiYXzCM7e",
        "colab": {
          "base_uri": "https://localhost:8080/",
          "height": 300
        },
        "outputId": "bf47c17c-face-4b08-cfc2-7302ac3082b7"
      },
      "source": [
        "store_data.tail(8)"
      ],
      "execution_count": null,
      "outputs": [
        {
          "output_type": "execute_result",
          "data": {
            "text/html": [
              "<div>\n",
              "<style scoped>\n",
              "    .dataframe tbody tr th:only-of-type {\n",
              "        vertical-align: middle;\n",
              "    }\n",
              "\n",
              "    .dataframe tbody tr th {\n",
              "        vertical-align: top;\n",
              "    }\n",
              "\n",
              "    .dataframe thead th {\n",
              "        text-align: right;\n",
              "    }\n",
              "</style>\n",
              "<table border=\"1\" class=\"dataframe\">\n",
              "  <thead>\n",
              "    <tr style=\"text-align: right;\">\n",
              "      <th></th>\n",
              "      <th>wine</th>\n",
              "      <th>chips</th>\n",
              "      <th>bread</th>\n",
              "      <th>butter</th>\n",
              "      <th>milk</th>\n",
              "      <th>apple</th>\n",
              "    </tr>\n",
              "  </thead>\n",
              "  <tbody>\n",
              "    <tr>\n",
              "      <th>13</th>\n",
              "      <td>wine</td>\n",
              "      <td>NaN</td>\n",
              "      <td>bread</td>\n",
              "      <td>butter</td>\n",
              "      <td>milk</td>\n",
              "      <td>apple</td>\n",
              "    </tr>\n",
              "    <tr>\n",
              "      <th>14</th>\n",
              "      <td>wine</td>\n",
              "      <td>chips</td>\n",
              "      <td>bread</td>\n",
              "      <td>butter</td>\n",
              "      <td>milk</td>\n",
              "      <td>apple</td>\n",
              "    </tr>\n",
              "    <tr>\n",
              "      <th>15</th>\n",
              "      <td>NaN</td>\n",
              "      <td>chips</td>\n",
              "      <td>bread</td>\n",
              "      <td>butter</td>\n",
              "      <td>milk</td>\n",
              "      <td>apple</td>\n",
              "    </tr>\n",
              "    <tr>\n",
              "      <th>16</th>\n",
              "      <td>NaN</td>\n",
              "      <td>chips</td>\n",
              "      <td>NaN</td>\n",
              "      <td>butter</td>\n",
              "      <td>milk</td>\n",
              "      <td>apple</td>\n",
              "    </tr>\n",
              "    <tr>\n",
              "      <th>17</th>\n",
              "      <td>wine</td>\n",
              "      <td>chips</td>\n",
              "      <td>bread</td>\n",
              "      <td>butter</td>\n",
              "      <td>milk</td>\n",
              "      <td>apple</td>\n",
              "    </tr>\n",
              "    <tr>\n",
              "      <th>18</th>\n",
              "      <td>wine</td>\n",
              "      <td>NaN</td>\n",
              "      <td>bread</td>\n",
              "      <td>butter</td>\n",
              "      <td>milk</td>\n",
              "      <td>apple</td>\n",
              "    </tr>\n",
              "    <tr>\n",
              "      <th>19</th>\n",
              "      <td>wine</td>\n",
              "      <td>chips</td>\n",
              "      <td>bread</td>\n",
              "      <td>NaN</td>\n",
              "      <td>milk</td>\n",
              "      <td>apple</td>\n",
              "    </tr>\n",
              "    <tr>\n",
              "      <th>20</th>\n",
              "      <td>NaN</td>\n",
              "      <td>chips</td>\n",
              "      <td>NaN</td>\n",
              "      <td>NaN</td>\n",
              "      <td>NaN</td>\n",
              "      <td>NaN</td>\n",
              "    </tr>\n",
              "  </tbody>\n",
              "</table>\n",
              "</div>"
            ],
            "text/plain": [
              "    wine  chips  bread  butter  milk  apple\n",
              "13  wine    NaN  bread  butter  milk  apple\n",
              "14  wine  chips  bread  butter  milk  apple\n",
              "15   NaN  chips  bread  butter  milk  apple\n",
              "16   NaN  chips    NaN  butter  milk  apple\n",
              "17  wine  chips  bread  butter  milk  apple\n",
              "18  wine    NaN  bread  butter  milk  apple\n",
              "19  wine  chips  bread     NaN  milk  apple\n",
              "20   NaN  chips    NaN     NaN   NaN    NaN"
            ]
          },
          "metadata": {},
          "execution_count": 9
        }
      ]
    },
    {
      "cell_type": "code",
      "metadata": {
        "id": "Z4pz8avQWzkd",
        "colab": {
          "base_uri": "https://localhost:8080/",
          "height": 206
        },
        "outputId": "6ccc8042-33cb-4f59-ee70-71a26dc1d998"
      },
      "source": [
        "store_data.tail()"
      ],
      "execution_count": null,
      "outputs": [
        {
          "output_type": "execute_result",
          "data": {
            "text/html": [
              "<div>\n",
              "<style scoped>\n",
              "    .dataframe tbody tr th:only-of-type {\n",
              "        vertical-align: middle;\n",
              "    }\n",
              "\n",
              "    .dataframe tbody tr th {\n",
              "        vertical-align: top;\n",
              "    }\n",
              "\n",
              "    .dataframe thead th {\n",
              "        text-align: right;\n",
              "    }\n",
              "</style>\n",
              "<table border=\"1\" class=\"dataframe\">\n",
              "  <thead>\n",
              "    <tr style=\"text-align: right;\">\n",
              "      <th></th>\n",
              "      <th>wine</th>\n",
              "      <th>chips</th>\n",
              "      <th>bread</th>\n",
              "      <th>butter</th>\n",
              "      <th>milk</th>\n",
              "      <th>apple</th>\n",
              "    </tr>\n",
              "  </thead>\n",
              "  <tbody>\n",
              "    <tr>\n",
              "      <th>16</th>\n",
              "      <td>NaN</td>\n",
              "      <td>chips</td>\n",
              "      <td>NaN</td>\n",
              "      <td>butter</td>\n",
              "      <td>milk</td>\n",
              "      <td>apple</td>\n",
              "    </tr>\n",
              "    <tr>\n",
              "      <th>17</th>\n",
              "      <td>wine</td>\n",
              "      <td>chips</td>\n",
              "      <td>bread</td>\n",
              "      <td>butter</td>\n",
              "      <td>milk</td>\n",
              "      <td>apple</td>\n",
              "    </tr>\n",
              "    <tr>\n",
              "      <th>18</th>\n",
              "      <td>wine</td>\n",
              "      <td>NaN</td>\n",
              "      <td>bread</td>\n",
              "      <td>butter</td>\n",
              "      <td>milk</td>\n",
              "      <td>apple</td>\n",
              "    </tr>\n",
              "    <tr>\n",
              "      <th>19</th>\n",
              "      <td>wine</td>\n",
              "      <td>chips</td>\n",
              "      <td>bread</td>\n",
              "      <td>NaN</td>\n",
              "      <td>milk</td>\n",
              "      <td>apple</td>\n",
              "    </tr>\n",
              "    <tr>\n",
              "      <th>20</th>\n",
              "      <td>NaN</td>\n",
              "      <td>chips</td>\n",
              "      <td>NaN</td>\n",
              "      <td>NaN</td>\n",
              "      <td>NaN</td>\n",
              "      <td>NaN</td>\n",
              "    </tr>\n",
              "  </tbody>\n",
              "</table>\n",
              "</div>"
            ],
            "text/plain": [
              "    wine  chips  bread  butter  milk  apple\n",
              "16   NaN  chips    NaN  butter  milk  apple\n",
              "17  wine  chips  bread  butter  milk  apple\n",
              "18  wine    NaN  bread  butter  milk  apple\n",
              "19  wine  chips  bread     NaN  milk  apple\n",
              "20   NaN  chips    NaN     NaN   NaN    NaN"
            ]
          },
          "metadata": {},
          "execution_count": 10
        }
      ]
    },
    {
      "cell_type": "code",
      "metadata": {
        "id": "ireDpr6Tp-z6",
        "colab": {
          "base_uri": "https://localhost:8080/"
        },
        "outputId": "4a18db08-bb8e-4562-b508-7191c6e6c1d8"
      },
      "source": [
        "#look at the shape\n",
        "store_data.shape"
      ],
      "execution_count": null,
      "outputs": [
        {
          "output_type": "execute_result",
          "data": {
            "text/plain": [
              "(21, 6)"
            ]
          },
          "metadata": {},
          "execution_count": 11
        }
      ]
    },
    {
      "cell_type": "code",
      "metadata": {
        "id": "zFQujowYqQ_S"
      },
      "source": [
        "#convert the pandas dataframe into a list of lists\n",
        "records = []\n",
        "for i in range(0,21):   #range(0,21)\n",
        "    records.append([str(store_data.values[i,j]) for j in range(0,6)])\n"
      ],
      "execution_count": null,
      "outputs": []
    },
    {
      "cell_type": "code",
      "metadata": {
        "id": "rcGalhBKttvC"
      },
      "source": [
        "#Build the Apriori model\n",
        "association_rules = apriori(records, min_support=0.45, min_confidence=0.7, min_lift=1.2, min_length=2)   #min_support=0.45\n",
        "association_results = list(association_rules)"
      ],
      "execution_count": null,
      "outputs": []
    },
    {
      "cell_type": "code",
      "metadata": {
        "id": "wntynNzl31_F",
        "colab": {
          "base_uri": "https://localhost:8080/"
        },
        "outputId": "2ca9a2ea-ac48-4863-96c5-7cb42cee0b3f"
      },
      "source": [
        "#Print out the number of rules\n",
        "print(len(association_results))"
      ],
      "execution_count": null,
      "outputs": [
        {
          "output_type": "stream",
          "name": "stdout",
          "text": [
            "2\n"
          ]
        }
      ]
    },
    {
      "cell_type": "code",
      "metadata": {
        "id": "CFXoyAI54DtU",
        "colab": {
          "base_uri": "https://localhost:8080/"
        },
        "outputId": "e8205631-6fe1-4fd2-f0be-47f854df430e"
      },
      "source": [
        "#Have a glance at the rule\n",
        "print(association_results)"
      ],
      "execution_count": null,
      "outputs": [
        {
          "output_type": "stream",
          "name": "stdout",
          "text": [
            "[RelationRecord(items=frozenset({'bread', 'butter'}), support=0.5714285714285714, ordered_statistics=[OrderedStatistic(items_base=frozenset({'bread'}), items_add=frozenset({'butter'}), confidence=0.7999999999999999, lift=1.2), OrderedStatistic(items_base=frozenset({'butter'}), items_add=frozenset({'bread'}), confidence=0.8571428571428571, lift=1.2)]), RelationRecord(items=frozenset({'bread', 'milk', 'butter'}), support=0.47619047619047616, ordered_statistics=[OrderedStatistic(items_base=frozenset({'butter'}), items_add=frozenset({'bread', 'milk'}), confidence=0.7142857142857143, lift=1.25), OrderedStatistic(items_base=frozenset({'bread', 'milk'}), items_add=frozenset({'butter'}), confidence=0.8333333333333334, lift=1.2500000000000002)])]\n"
          ]
        }
      ]
    },
    {
      "cell_type": "code",
      "metadata": {
        "id": "O7nhRZOJ7x62",
        "colab": {
          "base_uri": "https://localhost:8080/"
        },
        "outputId": "cf467b27-9123-49e8-99d1-1234a93f702f"
      },
      "source": [
        "print(association_results[1])"
      ],
      "execution_count": null,
      "outputs": [
        {
          "output_type": "stream",
          "name": "stdout",
          "text": [
            "RelationRecord(items=frozenset({'bread', 'milk', 'butter'}), support=0.47619047619047616, ordered_statistics=[OrderedStatistic(items_base=frozenset({'butter'}), items_add=frozenset({'bread', 'milk'}), confidence=0.7142857142857143, lift=1.25), OrderedStatistic(items_base=frozenset({'bread', 'milk'}), items_add=frozenset({'butter'}), confidence=0.8333333333333334, lift=1.2500000000000002)])\n"
          ]
        }
      ]
    }
  ]
}