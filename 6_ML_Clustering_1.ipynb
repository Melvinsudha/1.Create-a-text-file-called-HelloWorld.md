{
  "nbformat": 4,
  "nbformat_minor": 0,
  "metadata": {
    "colab": {
      "name": "6. ML. Clustering 1.ipynb",
      "provenance": [],
      "collapsed_sections": [],
      "authorship_tag": "ABX9TyOn253512oKw0FlI8jB41Qz",
      "include_colab_link": true
    },
    "kernelspec": {
      "display_name": "Python 3",
      "name": "python3"
    },
    "language_info": {
      "name": "python"
    }
  },
  "cells": [
    {
      "cell_type": "markdown",
      "metadata": {
        "id": "view-in-github",
        "colab_type": "text"
      },
      "source": [
        "<a href=\"https://colab.research.google.com/github/Melvinsudha/1.Create-a-text-file-called-HelloWorld.md/blob/main/6_ML_Clustering_1.ipynb\" target=\"_parent\"><img src=\"https://colab.research.google.com/assets/colab-badge.svg\" alt=\"Open In Colab\"/></a>"
      ]
    },
    {
      "cell_type": "markdown",
      "metadata": {
        "id": "pRYa7Hp8Sw--"
      },
      "source": [
        "**# Clustering example 1 - using dictionary alone**"
      ]
    },
    {
      "cell_type": "code",
      "metadata": {
        "id": "gTjucifZRphc",
        "colab": {
          "base_uri": "https://localhost:8080/"
        },
        "outputId": "dd71909a-2980-478a-83e5-05c4690b936c"
      },
      "source": [
        "\n",
        "import pandas as pd\n",
        "dictionary3 = { 'salary' : [45000,40000,35000,30000,42000,37000,43000,38000,41000,44000,90000,80000,70000,60000,95000,85000,75000,65000,84000,92000,190000,180000,170000,160000,195000,185000,175000,165000,184000,192000],\n",
        "'car_type' : [0,0,0,0,0,0,0,0,0,0,1,1,1,1,1,1,1,1,1,1,2,2,2,2,2,2,2,2,2,2]\n",
        " }\n",
        "table3 = pd.DataFrame (dictionary3)\n",
        "print(table3)\n",
        "\n"
      ],
      "execution_count": null,
      "outputs": [
        {
          "output_type": "stream",
          "name": "stdout",
          "text": [
            "    salary  car_type\n",
            "0    45000         0\n",
            "1    40000         0\n",
            "2    35000         0\n",
            "3    30000         0\n",
            "4    42000         0\n",
            "5    37000         0\n",
            "6    43000         0\n",
            "7    38000         0\n",
            "8    41000         0\n",
            "9    44000         0\n",
            "10   90000         1\n",
            "11   80000         1\n",
            "12   70000         1\n",
            "13   60000         1\n",
            "14   95000         1\n",
            "15   85000         1\n",
            "16   75000         1\n",
            "17   65000         1\n",
            "18   84000         1\n",
            "19   92000         1\n",
            "20  190000         2\n",
            "21  180000         2\n",
            "22  170000         2\n",
            "23  160000         2\n",
            "24  195000         2\n",
            "25  185000         2\n",
            "26  175000         2\n",
            "27  165000         2\n",
            "28  184000         2\n",
            "29  192000         2\n"
          ]
        }
      ]
    },
    {
      "cell_type": "code",
      "metadata": {
        "id": "PhIDRUZHS2yc"
      },
      "source": [
        "X = table3.iloc[:, :-1].values   #Selecting data by row numbers (.iloc)\n",
        "\n"
      ],
      "execution_count": null,
      "outputs": []
    },
    {
      "cell_type": "code",
      "metadata": {
        "id": "CtlguRntS4xg"
      },
      "source": [
        "from sklearn.preprocessing import StandardScaler\n",
        "sc = StandardScaler()\n",
        "X = sc.fit_transform(X)"
      ],
      "execution_count": null,
      "outputs": []
    },
    {
      "cell_type": "code",
      "metadata": {
        "colab": {
          "base_uri": "https://localhost:8080/"
        },
        "id": "9p3ZWZwbTAjE",
        "outputId": "d3fde87f-72fd-405c-e487-196575d66a30"
      },
      "source": [
        "# Fitting K-Means to the dataset\n",
        "from sklearn.cluster import KMeans\n",
        "kmeans = KMeans(n_clusters = 3, init = 'k-means++', random_state = 0)\n",
        "y_kmeans = kmeans.fit_predict(X)\n",
        "print(y_kmeans)"
      ],
      "execution_count": null,
      "outputs": [
        {
          "output_type": "stream",
          "name": "stdout",
          "text": [
            "[2 2 2 2 2 2 2 2 2 2 0 0 0 2 0 0 0 0 0 0 1 1 1 1 1 1 1 1 1 1]\n"
          ]
        }
      ]
    },
    {
      "cell_type": "markdown",
      "metadata": {
        "id": "hvil_fJGTRPp"
      },
      "source": [
        "**# K-Means Clustering Example 2**"
      ]
    },
    {
      "cell_type": "code",
      "metadata": {
        "id": "J8-RGi_7TQCF"
      },
      "source": [
        "# Importing the libraries\n",
        "import numpy as np\n",
        "import matplotlib.pyplot as plt\n",
        "import pandas as pd"
      ],
      "execution_count": null,
      "outputs": []
    },
    {
      "cell_type": "code",
      "metadata": {
        "id": "CLQawz0HTVxb",
        "colab": {
          "base_uri": "https://localhost:8080/"
        },
        "outputId": "ffc0e680-ab60-4f0e-938c-ef4030dc257d"
      },
      "source": [
        "# Importing the dataset\n",
        "\n",
        "dataset = pd.read_csv('DriverData.csv')\n",
        "\n",
        "X = dataset.iloc[:, [2, 3]].values\n",
        "print(X)"
      ],
      "execution_count": null,
      "outputs": [
        {
          "output_type": "stream",
          "name": "stdout",
          "text": [
            "[[84 83]\n",
            " [76 77]\n",
            " [83 84]\n",
            " [77 76]\n",
            " [82 81]\n",
            " [78 79]\n",
            " [81 82]\n",
            " [79 78]\n",
            " [85 84]\n",
            " [75 74]\n",
            " [61 62]\n",
            " [59 58]\n",
            " [62 61]\n",
            " [58 59]\n",
            " [63 64]\n",
            " [57 56]\n",
            " [64 63]\n",
            " [56 57]\n",
            " [65 64]\n",
            " [55 54]\n",
            " [43 44]\n",
            " [37 36]\n",
            " [44 43]\n",
            " [36 37]\n",
            " [45 44]\n",
            " [35 34]\n",
            " [41 42]\n",
            " [39 38]\n",
            " [42 41]\n",
            " [38 39]]\n"
          ]
        }
      ]
    },
    {
      "cell_type": "code",
      "metadata": {
        "id": "lLz4Ey8gTdVw",
        "colab": {
          "base_uri": "https://localhost:8080/"
        },
        "outputId": "2a3f0bc8-7bda-4de6-b6f8-7548f5aa0f1b"
      },
      "source": [
        "print (dataset)"
      ],
      "execution_count": null,
      "outputs": [
        {
          "output_type": "stream",
          "name": "stdout",
          "text": [
            "     User ID  Gender  Score1  Score2  Category\n",
            "0   15624510    Male      84      83         1\n",
            "1   15810944    Male      76      77         1\n",
            "2   15668575  Female      83      84         1\n",
            "3   15603246  Female      77      76         1\n",
            "4   15804002    Male      82      81         1\n",
            "5   15728773    Male      78      79         1\n",
            "6   15598044  Female      81      82         1\n",
            "7   15694829  Female      79      78         1\n",
            "8   15600575    Male      85      84         1\n",
            "9   15727311  Female      75      74         1\n",
            "10  15570769  Female      61      62         2\n",
            "11  15606274  Female      59      58         2\n",
            "12  15746139    Male      62      61         2\n",
            "13  15704987    Male      58      59         2\n",
            "14  15628972    Male      63      64         2\n",
            "15  15624510    Male      57      56         2\n",
            "16  15810944    Male      64      63         2\n",
            "17  15668575  Female      56      57         2\n",
            "18  15603246  Female      65      64         2\n",
            "19  15804002    Male      55      54         2\n",
            "20  15728773    Male      43      44         3\n",
            "21  15598044  Female      37      36         3\n",
            "22  15694829  Female      44      43         3\n",
            "23  15600575    Male      36      37         3\n",
            "24  15727311  Female      45      44         3\n",
            "25  15570769  Female      35      34         3\n",
            "26  15606274  Female      41      42         3\n",
            "27  15746139    Male      39      38         3\n",
            "28  15704987    Male      42      41         3\n",
            "29  15628972    Male      38      39         3\n"
          ]
        }
      ]
    },
    {
      "cell_type": "code",
      "metadata": {
        "id": "MxShliT9Tglk"
      },
      "source": [
        "# Feature Scaling\n",
        "#Scaling or Standardization: It is a step of Data Pre Processing-applied to features of data.\n",
        "# sklearn - used to build machine learning models\n",
        "# StandardScaler - subtracting the mean and then scaling to unit variance\n",
        "from sklearn.preprocessing import StandardScaler \n",
        "sc = StandardScaler()\n",
        "X = sc.fit_transform(X)"
      ],
      "execution_count": null,
      "outputs": []
    },
    {
      "cell_type": "code",
      "metadata": {
        "colab": {
          "base_uri": "https://localhost:8080/"
        },
        "id": "fYqxSL1pTj1E",
        "outputId": "1a839bd3-3e2a-4fc1-f6d4-40216dc46cf2"
      },
      "source": [
        "# Fitting K-Means to the dataset\n",
        "\n",
        "from sklearn.cluster import KMeans\n",
        "kmeans = KMeans(n_clusters = 3, init = 'k-means++')\n",
        "y_kmeans = kmeans.fit_predict(X)\n",
        "print(y_kmeans)\n",
        "\n"
      ],
      "execution_count": null,
      "outputs": [
        {
          "output_type": "stream",
          "name": "stdout",
          "text": [
            "[1 1 1 1 1 1 1 1 1 1 2 2 2 2 2 2 2 2 2 2 0 0 0 0 0 0 0 0 0 0]\n"
          ]
        }
      ]
    },
    {
      "cell_type": "code",
      "metadata": {
        "colab": {
          "base_uri": "https://localhost:8080/",
          "height": 295
        },
        "id": "Wg8LIHb0XDF8",
        "outputId": "0d4a3e66-f76e-40f4-d327-ba3c981a12a5"
      },
      "source": [
        "plt.scatter(X[y_kmeans == 0, 0], X[y_kmeans == 0, 1], s = 100, c = 'red', label = 'cluster 1')\n",
        "plt.scatter(X[y_kmeans == 1, 0], X[y_kmeans == 1, 1], s = 100, c = 'blue', label = 'cluster 2')\n",
        "plt.scatter(X[y_kmeans == 2, 0], X[y_kmeans == 2, 1], s = 100, c = 'green', label = 'cluster 3')\n",
        "plt.scatter(kmeans.cluster_centers_[:, 0], kmeans.cluster_centers_[:, 1], s = 300, c = 'yellow', label = 'Centroids')\n",
        "\n",
        "plt.title('Clusters of Drivers')\n",
        "plt.xlabel('Concentration Score (Score1)')\n",
        "plt.ylabel('Response Score (Score2)')\n",
        "\n",
        "plt.legend()\n",
        "plt.show()"
      ],
      "execution_count": null,
      "outputs": [
        {
          "output_type": "display_data",
          "data": {
            "image/png": "[encoded data removed]",
            "text/plain": [
              "<Figure size 432x288 with 1 Axes>"
            ]
          },
          "metadata": {
            "needs_background": "light"
          }
        }
      ]
    },
    {
      "cell_type": "markdown",
      "metadata": {
        "id": "NXLB_lVqWDjD"
      },
      "source": [
        "**K-Means Clustering 3**"
      ]
    },
    {
      "cell_type": "code",
      "metadata": {
        "id": "xqVvtoaSVdG2"
      },
      "source": [
        "# Importing the libraries\n",
        "\n",
        "import numpy as np\n",
        "import matplotlib.pyplot as plt\n",
        "import pandas as pd"
      ],
      "execution_count": null,
      "outputs": []
    },
    {
      "cell_type": "code",
      "metadata": {
        "colab": {
          "base_uri": "https://localhost:8080/"
        },
        "id": "u84thOlaWVHK",
        "outputId": "22ea3564-8587-4119-c716-1529f66dd49e"
      },
      "source": [
        "# Importing the dataset\n",
        "\n",
        "dataset = pd.read_csv('VehicleData2.csv')\n",
        "X = dataset.iloc[:, 0:-1].values\n",
        "print(dataset)"
      ],
      "execution_count": null,
      "outputs": [
        {
          "output_type": "stream",
          "name": "stdout",
          "text": [
            "    Salary  CarType\n",
            "0    45000        0\n",
            "1    40000        0\n",
            "2    35000        0\n",
            "3    40000        0\n",
            "4    42000        0\n",
            "5    37000        0\n",
            "6    43000        0\n",
            "7    38000        0\n",
            "8    41000        0\n",
            "9    44000        0\n",
            "10   90000        1\n",
            "11   80000        1\n",
            "12   70000        1\n",
            "13   94000        1\n",
            "14   95000        1\n",
            "15   85000        1\n",
            "16   75000        1\n",
            "17   65000        1\n",
            "18   84000        1\n",
            "19   92000        1\n",
            "20  120000        2\n",
            "21  145000        2\n",
            "22  115000        2\n",
            "23  140000        2\n",
            "24  130000        2\n",
            "25  135000        2\n",
            "26  145000        2\n",
            "27  100000        2\n",
            "28  110000        2\n"
          ]
        }
      ]
    },
    {
      "cell_type": "code",
      "metadata": {
        "colab": {
          "base_uri": "https://localhost:8080/"
        },
        "id": "0oDi3kSodZj4",
        "outputId": "ef794290-e912-4d08-c6fa-9a58b96ceda8"
      },
      "source": [
        "print(X)"
      ],
      "execution_count": null,
      "outputs": [
        {
          "output_type": "stream",
          "name": "stdout",
          "text": [
            "[[-1.01468716]\n",
            " [-1.1521915 ]\n",
            " [-1.28969583]\n",
            " [-1.1521915 ]\n",
            " [-1.09718976]\n",
            " [-1.2346941 ]\n",
            " [-1.06968889]\n",
            " [-1.20719323]\n",
            " [-1.12469063]\n",
            " [-1.04218803]\n",
            " [ 0.22285185]\n",
            " [-0.05215682]\n",
            " [-0.32716549]\n",
            " [ 0.33285532]\n",
            " [ 0.36035619]\n",
            " [ 0.08534752]\n",
            " [-0.18966115]\n",
            " [-0.46466982]\n",
            " [ 0.05784665]\n",
            " [ 0.27785359]\n",
            " [ 1.04787786]\n",
            " [ 1.73539954]\n",
            " [ 0.91037353]\n",
            " [ 1.5978952 ]\n",
            " [ 1.32288653]\n",
            " [ 1.46039087]\n",
            " [ 1.73539954]\n",
            " [ 0.49786052]\n",
            " [ 0.77286919]]\n"
          ]
        }
      ]
    },
    {
      "cell_type": "code",
      "metadata": {
        "id": "_p3NksPuWaQN"
      },
      "source": [
        "# Feature Scaling\n",
        "\n",
        "from sklearn.preprocessing import StandardScaler\n",
        "sc = StandardScaler()\n",
        "X = sc.fit_transform(X)"
      ],
      "execution_count": null,
      "outputs": []
    },
    {
      "cell_type": "code",
      "metadata": {
        "colab": {
          "base_uri": "https://localhost:8080/"
        },
        "id": "-OwU0Y51Wcm0",
        "outputId": "0548171d-615e-4574-90f6-e4c28228586b"
      },
      "source": [
        "# Fitting K-Means to the dataset\n",
        "\n",
        "from sklearn.cluster import KMeans\n",
        "\n",
        "kmeans = KMeans(n_clusters = 3, init = 'k-means++')\n",
        "y_kmeans = kmeans.fit_predict(X)\n",
        "print(y_kmeans)"
      ],
      "execution_count": null,
      "outputs": [
        {
          "output_type": "stream",
          "name": "stdout",
          "text": [
            "[1 1 1 1 1 1 1 1 1 1 2 2 2 2 2 2 2 2 2 2 0 0 0 0 0 0 0 2 0]\n"
          ]
        }
      ]
    },
    {
      "cell_type": "code",
      "metadata": {
        "colab": {
          "base_uri": "https://localhost:8080/",
          "height": 295
        },
        "id": "-pifway8Wfv8",
        "outputId": "a59309a0-efa6-4571-e510-c4cbe478dffb"
      },
      "source": [
        "#plt.scatter(X[y_kmeans == 0, 0], X[y_kmeans == 0, -1], s = 100, c = 'red', label = 'cluster 1')\n",
        "#plt.scatter(X[y_kmeans == 0, 0], X[y_kmeans == 0, -1], s = 100, c = 'blue', label = 'cluster 2')\n",
        "#plt.scatter(X[y_kmeans == 0, 0], X[y_kmeans == 0, -1], s = 100, c = 'green', label = 'cluster 3')\n",
        "\n",
        "plt.scatter(X[y_kmeans == 0, 0], X[y_kmeans == 0, -1], s = 100, c = 'red', label = 'cluster 1')\n",
        "plt.scatter(X[y_kmeans == 1, 0], X[y_kmeans == 1, -1], s = 100, c = 'blue', label = 'cluster 2')\n",
        "plt.scatter(X[y_kmeans == 2, 0], X[y_kmeans == 2, -1], s = 100, c = 'green', label = 'cluster 3')\n",
        "plt.scatter(kmeans.cluster_centers_[:, 0], kmeans.cluster_centers_[:, -1], s = 300, c = 'yellow', label = 'Centroids')\n",
        "\n",
        "plt.title('vehicle Data')\n",
        "plt.xlabel('salary')\n",
        "plt.ylabel('cartype')\n",
        "\n",
        "plt.legend()\n",
        "plt.show()"
      ],
      "execution_count": null,
      "outputs": [
        {
          "output_type": "display_data",
          "data": {
            "image/png": "[encoded data removed]",
            "text/plain": [
              "<Figure size 432x288 with 1 Axes>"
            ]
          },
          "metadata": {
            "needs_background": "light"
          }
        }
      ]
    }
  ]
}